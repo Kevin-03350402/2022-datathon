{
 "cells": [
  {
   "cell_type": "code",
   "execution_count": 25,
   "metadata": {},
   "outputs": [
    {
     "name": "stderr",
     "output_type": "stream",
     "text": [
      "/usr/local/lib/python3.7/site-packages/IPython/core/interactiveshell.py:3552: DtypeWarning: Columns (19,59,118,129,130,131,134,135,136,139,145,146,147) have mixed types.Specify dtype option on import or set low_memory=False.\n",
      "  exec(code_obj, self.user_global_ns, self.user_ns)\n"
     ]
    }
   ],
   "source": [
    "import pandas as pd\n",
    "import numpy as np\n",
    "# rejected = pd.read_csv(\"Lending_Club_Rejected_2014_2018.csv\")\n",
    "accepted = pd.read_csv(\"Lending_Club_Accepted_2014_2018.csv\")"
   ]
  },
  {
   "cell_type": "code",
   "execution_count": null,
   "metadata": {},
   "outputs": [],
   "source": []
  },
  {
   "cell_type": "code",
   "execution_count": 26,
   "metadata": {},
   "outputs": [
    {
     "name": "stdout",
     "output_type": "stream",
     "text": [
      "[0.23596667 0.2281     0.23433333 0.23666667 0.26036667 0.27943333\n",
      " 0.31433333 0.41056667 0.62466667 0.64336667 0.78573333 0.9215\n",
      " 1.0679     1.20246667 1.31503333 1.46826667 1.92883333 2.33806667\n",
      " 2.33726667 2.63333333]\n"
     ]
    }
   ],
   "source": [
    "libor_14_to_18 = pd.read_csv(\"LIBOR14to18.csv\")\n",
    "libor_quarterly = libor_14_to_18.groupby(np.arange(len(libor_14_to_18))//3).mean()\n",
    "libor_quarterly = libor_quarterly[libor_quarterly.columns[1]].to_numpy()\n",
    "print(libor_quarterly)"
   ]
  },
  {
   "cell_type": "code",
   "execution_count": 30,
   "metadata": {},
   "outputs": [
    {
     "name": "stderr",
     "output_type": "stream",
     "text": [
      "/usr/local/lib/python3.7/site-packages/ipykernel_launcher.py:12: SettingWithCopyWarning: \n",
      "A value is trying to be set on a copy of a slice from a DataFrame.\n",
      "Try using .loc[row_indexer,col_indexer] = value instead\n",
      "\n",
      "See the caveats in the documentation: https://pandas.pydata.org/pandas-docs/stable/user_guide/indexing.html#returning-a-view-versus-a-copy\n",
      "  if sys.path[0] == \"\":\n",
      "/usr/local/lib/python3.7/site-packages/pandas/core/generic.py:5516: SettingWithCopyWarning: \n",
      "A value is trying to be set on a copy of a slice from a DataFrame.\n",
      "Try using .loc[row_indexer,col_indexer] = value instead\n",
      "\n",
      "See the caveats in the documentation: https://pandas.pydata.org/pandas-docs/stable/user_guide/indexing.html#returning-a-view-versus-a-copy\n",
      "  self[name] = value\n"
     ]
    }
   ],
   "source": [
    "def modify_date(input_date): #Oct-2014 >>> 201410 in str\n",
    "    input_year = input_date[-4:]\n",
    "    input_month = input_date[0:3]\n",
    "    month_dict = {\"Jan\": \"01\", \"Feb\": \"02\", \"Mar\": \"03\", \"Apr\": \"04\", \"May\": \"05\", \n",
    "    \"Jun\": \"06\", \"Jul\": \"07\", \"Aug\": \"08\", \"Sep\": \"09\", \"Oct\": \"10\", \"Nov\": \"11\", \"Dec\": \"12\"}\n",
    "    month = month_dict[input_month]\n",
    "    return input_year + month\n",
    "\n",
    "trimmed = accepted[[\"int_rate\", \"issue_d\", \"term\"]]\n",
    "def trim_func(str):\n",
    "    return str[0:3]\n",
    "trimmed[\"int_index\"] = trimmed['int_rate']*(trimmed['term'].apply(trim_func).astype(\"float\"))\n",
    "trimmed_twice = trimmed[[\"int_index\", \"issue_d\"]]\n",
    "trimmed_twice.issue_d = trimmed_twice[\"issue_d\"].apply(modify_date)\n",
    "trimmed_twice.sort_values(by=['issue_d'])\n",
    "int_index_monthly = trimmed_twice.groupby(by=['issue_d']).mean()\n",
    "int_index_quarterly = int_index_monthly.groupby(np.arange(len(int_index_monthly))//3).mean()"
   ]
  },
  {
   "cell_type": "code",
   "execution_count": 27,
   "metadata": {},
   "outputs": [
    {
     "name": "stderr",
     "output_type": "stream",
     "text": [
      "/usr/local/lib/python3.7/site-packages/pandas/core/generic.py:5516: SettingWithCopyWarning: \n",
      "A value is trying to be set on a copy of a slice from a DataFrame.\n",
      "Try using .loc[row_indexer,col_indexer] = value instead\n",
      "\n",
      "See the caveats in the documentation: https://pandas.pydata.org/pandas-docs/stable/user_guide/indexing.html#returning-a-view-versus-a-copy\n",
      "  self[name] = value\n"
     ]
    },
    {
     "name": "stdout",
     "output_type": "stream",
     "text": [
      "     int_rate\n",
      "0   14.325746\n",
      "1   14.068590\n",
      "2   13.734749\n",
      "3   13.032660\n",
      "4   12.850765\n",
      "5   12.766859\n",
      "6   12.651343\n",
      "7   12.243646\n",
      "8   12.454626\n",
      "9   12.480911\n",
      "10  13.732961\n",
      "11  13.650170\n",
      "12  13.379060\n",
      "13  13.285375\n",
      "14  13.475436\n",
      "15  12.880015\n",
      "16  12.425467\n",
      "17  12.559360\n",
      "18  12.949836\n",
      "19  12.937414\n"
     ]
    }
   ],
   "source": [
    "trimmed_twice_rate = accepted[[\"int_rate\", \"issue_d\"]]\n",
    "trimmed_twice_rate.issue_d = trimmed_twice_rate[\"issue_d\"].apply(modify_date)\n",
    "trimmed_twice_rate.sort_values(by=['issue_d'])\n",
    "int_rate_monthly = trimmed_twice_rate.groupby(by=['issue_d']).mean()\n",
    "int_rate_quarterly = int_rate_monthly.groupby(np.arange(len(int_rate_monthly))//3).mean()\n",
    "print(int_rate_quarterly)"
   ]
  },
  {
   "cell_type": "code",
   "execution_count": 57,
   "metadata": {},
   "outputs": [
    {
     "name": "stderr",
     "output_type": "stream",
     "text": [
      "/usr/local/lib/python3.7/site-packages/pandas/core/generic.py:5516: SettingWithCopyWarning: \n",
      "A value is trying to be set on a copy of a slice from a DataFrame.\n",
      "Try using .loc[row_indexer,col_indexer] = value instead\n",
      "\n",
      "See the caveats in the documentation: https://pandas.pydata.org/pandas-docs/stable/user_guide/indexing.html#returning-a-view-versus-a-copy\n",
      "  self[name] = value\n"
     ]
    },
    {
     "name": "stdout",
     "output_type": "stream",
     "text": [
      "         term\n",
      "0   42.744987\n",
      "1   43.585880\n",
      "2   43.348467\n",
      "3   43.891297\n",
      "4   43.894939\n",
      "5   43.912895\n",
      "6   44.048889\n",
      "7   43.678210\n",
      "8   42.819339\n",
      "9   41.719150\n",
      "10  42.089061\n",
      "11  41.710336\n",
      "12  42.054480\n",
      "13  42.442077\n",
      "14  42.764982\n",
      "15  43.279291\n",
      "16  43.222453\n",
      "17  43.207219\n",
      "18  43.241582\n",
      "19  43.519894\n"
     ]
    }
   ],
   "source": [
    "trimmed_twice_term = accepted[[\"term\", \"issue_d\"]]\n",
    "trimmed_twice_term.issue_d = trimmed_twice_term[\"issue_d\"].apply(modify_date)\n",
    "trimmed_twice_term.term = trimmed_twice_term[\"term\"].apply(trim_func).astype(\"float\")\n",
    "trimmed_twice_term.sort_values(by=['issue_d'])\n",
    "term_monthly = trimmed_twice_term.groupby(by=['issue_d']).mean()\n",
    "term_quarterly = term_monthly.groupby(np.arange(len(term_monthly))//3).mean()\n",
    "print(term_quarterly)"
   ]
  },
  {
   "cell_type": "code",
   "execution_count": 29,
   "metadata": {},
   "outputs": [
    {
     "name": "stdout",
     "output_type": "stream",
     "text": [
      "     int_index\n",
      "0   634.931619\n",
      "1   636.595277\n",
      "2   617.629025\n",
      "3   591.556549\n",
      "4   584.850294\n",
      "5   582.085088\n",
      "6   579.327281\n",
      "7   555.800331\n",
      "8   554.322478\n",
      "9   537.396282\n",
      "10  598.465815\n",
      "11  590.332114\n",
      "12  582.069067\n",
      "13  582.740172\n",
      "14  595.684441\n",
      "15  577.024133\n",
      "16  556.773357\n",
      "17  562.700944\n",
      "18  577.944266\n",
      "19  577.316829\n",
      "[0.23596667 0.2281     0.23433333 0.23666667 0.26036667 0.27943333\n",
      " 0.31433333 0.41056667 0.62466667 0.64336667 0.78573333 0.9215\n",
      " 1.0679     1.20246667 1.31503333 1.46826667 1.92883333 2.33806667\n",
      " 2.33726667 2.63333333]\n"
     ]
    }
   ],
   "source": [
    "print(int_index_quarterly)\n",
    "print(libor_quarterly)"
   ]
  },
  {
   "cell_type": "code",
   "execution_count": 93,
   "metadata": {},
   "outputs": [
    {
     "name": "stdout",
     "output_type": "stream",
     "text": [
      "(20, 1) (20, 1) (20, 1)\n"
     ]
    }
   ],
   "source": [
    "cash_flow = pd.read_csv(\"LC_quarterly_cash-flow.csv\")\n",
    "def rem_comma(str):\n",
    "    str = str.replace(',','')\n",
    "    return str\n",
    "cash_flow = np.array((cash_flow.iloc[-1, -24:-4]).apply(rem_comma)).astype(float).reshape((20, 1))\n",
    "cash_flow = cash_flow[::-1]\n",
    "term_quarterly = np.array(term_quarterly).reshape((20, 1)).astype(float)\n",
    "libor_quarterly = np.array(libor_quarterly).reshape((20, 1)).astype(float)\n",
    "int_rate_quarterly = np.array(int_rate_quarterly).reshape((20, 1)).astype(float)\n",
    "print(term_quarterly.shape, libor_quarterly.shape, cash_flow.shape)"
   ]
  },
  {
   "cell_type": "code",
   "execution_count": 97,
   "metadata": {},
   "outputs": [
    {
     "name": "stdout",
     "output_type": "stream",
     "text": [
      "0.18679573971752017\n",
      "[[-6.04144965e-10 -2.78393273e-01 -2.93125447e-01]]\n",
      "25.327132909076617\n",
      "[[-9.76813505e-01]\n",
      " [-9.40925494e-01]\n",
      " [-5.48848245e-01]\n",
      " [ 6.55517332e-04]\n",
      " [ 1.79837954e-01]\n",
      " [ 2.49952370e-01]\n",
      " [ 3.07651597e-01]\n",
      " [ 7.98658067e-01]\n",
      " [ 7.69112859e-01]\n",
      " [ 1.05995048e+00]\n",
      " [-3.42163620e-01]\n",
      " [-2.02306761e-01]\n",
      " [-5.75212681e-02]\n",
      " [-1.10992924e-01]\n",
      " [-3.53342223e-01]\n",
      " [ 2.35614086e-01]\n",
      " [ 3.03380061e-01]\n",
      " [ 1.97586199e-01]\n",
      " [-3.08414397e-01]\n",
      " [-2.61070750e-01]]\n"
     ]
    }
   ],
   "source": [
    "from sklearn.linear_model import LinearRegression\n",
    "X = np.hstack((term_quarterly, libor_quarterly))\n",
    "X = np.hstack((cash_flow, X))\n",
    "# X = cash_flow, term_quarterly, libor_quarterly\n",
    "y = int_rate_quarterly\n",
    "reg = LinearRegression().fit(X, y)\n",
    "print(reg.score(X, y))\n",
    "print(reg.coef_)\n",
    "print(reg.intercept_[0])\n",
    "print(X@reg.coef_.T+reg.intercept_[0] - y)"
   ]
  },
  {
   "cell_type": "code",
   "execution_count": 96,
   "metadata": {},
   "outputs": [
    {
     "data": {
      "image/png": "[encoded data removed]",
      "text/plain": [
       "<Figure size 432x288 with 1 Axes>"
      ]
     },
     "metadata": {
      "needs_background": "light"
     },
     "output_type": "display_data"
    }
   ],
   "source": [
    "from matplotlib import pyplot as plt \n",
    "plt.xlabel(\"number of terms (from 2014 to 2018)\") \n",
    "plt.ylabel(\"error rate in prediction\") \n",
    "x = np.array([i for i in range (1, 21)])\n",
    "y_new = abs((X@reg.coef_.T+reg.intercept_[0] - y)/y)\n",
    "plt.plot(x, y_new)\n",
    "plt.show()"
   ]
  }
 ],
 "metadata": {
  "kernelspec": {
   "display_name": "Python 3.7.7 64-bit",
   "language": "python",
   "name": "python3"
  },
  "language_info": {
   "codemirror_mode": {
    "name": "ipython",
    "version": 3
   },
   "file_extension": ".py",
   "mimetype": "text/x-python",
   "name": "python",
   "nbconvert_exporter": "python",
   "pygments_lexer": "ipython3",
   "version": "3.7.7"
  },
  "orig_nbformat": 4,
  "vscode": {
   "interpreter": {
    "hash": "df955ce39d0f31d56d4bb2fe0a613e5326ba60723fd33d8303a3aede8f65715c"
   }
  }
 },
 "nbformat": 4,
 "nbformat_minor": 2
}

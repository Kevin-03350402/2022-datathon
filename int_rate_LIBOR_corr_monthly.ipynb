{
 "cells": [
  {
   "cell_type": "code",
   "execution_count": 2,
   "metadata": {},
   "outputs": [
    {
     "name": "stderr",
     "output_type": "stream",
     "text": [
      "/Users/sunying/opt/anaconda3/lib/python3.9/site-packages/IPython/core/interactiveshell.py:3444: DtypeWarning: Columns (19,59,118,129,130,131,134,135,136,139,145,146,147) have mixed types.Specify dtype option on import or set low_memory=False.\n",
      "  exec(code_obj, self.user_global_ns, self.user_ns)\n"
     ]
    }
   ],
   "source": [
    "import pandas as pd\n",
    "import numpy as np\n",
    "rejected = pd.read_csv(\"Lending_Club_Rejected_2014_2018.csv\")\n",
    "accepted = pd.read_csv(\"Lending_Club_Accepted_2014_2018.csv\")"
   ]
  },
  {
   "cell_type": "code",
   "execution_count": 3,
   "metadata": {},
   "outputs": [],
   "source": [
    "libor_14_to_18 = pd.read_csv(\"LIBOR14to18.csv\")"
   ]
  },
  {
   "cell_type": "code",
   "execution_count": 49,
   "metadata": {},
   "outputs": [
    {
     "name": "stderr",
     "output_type": "stream",
     "text": [
      "/var/folders/3x/vz5rzs_16ss0fjxrltm5qnv00000gn/T/ipykernel_66573/838185056.py:12: SettingWithCopyWarning: \n",
      "A value is trying to be set on a copy of a slice from a DataFrame.\n",
      "Try using .loc[row_indexer,col_indexer] = value instead\n",
      "\n",
      "See the caveats in the documentation: https://pandas.pydata.org/pandas-docs/stable/user_guide/indexing.html#returning-a-view-versus-a-copy\n",
      "  trimmed[\"int_index\"] = trimmed['int_rate']*(trimmed['term'].apply(trim_func).astype(\"float\"))\n",
      "/Users/sunying/opt/anaconda3/lib/python3.9/site-packages/pandas/core/generic.py:5516: SettingWithCopyWarning: \n",
      "A value is trying to be set on a copy of a slice from a DataFrame.\n",
      "Try using .loc[row_indexer,col_indexer] = value instead\n",
      "\n",
      "See the caveats in the documentation: https://pandas.pydata.org/pandas-docs/stable/user_guide/indexing.html#returning-a-view-versus-a-copy\n",
      "  self[name] = value\n"
     ]
    }
   ],
   "source": [
    "def modify_date(input_date): #Oct-2014 >>> 201410 in str\n",
    "    input_year = input_date[-4:]\n",
    "    input_month = input_date[0:3]\n",
    "    month_dict = {\"Jan\": \"01\", \"Feb\": \"02\", \"Mar\": \"03\", \"Apr\": \"04\", \"May\": \"05\", \n",
    "    \"Jun\": \"06\", \"Jul\": \"07\", \"Aug\": \"08\", \"Sep\": \"09\", \"Oct\": \"10\", \"Nov\": \"11\", \"Dec\": \"12\"}\n",
    "    month = month_dict[input_month]\n",
    "    return input_year + month\n",
    "\n",
    "trimmed = accepted[[\"int_rate\", \"issue_d\", \"term\"]]\n",
    "def trim_func(str):\n",
    "    return str[0:2]\n",
    "trimmed[\"int_index\"] = trimmed['int_rate']*(trimmed['term'].apply(trim_func).astype(\"float\"))\n",
    "trimmed_twice = trimmed[[\"int_index\", \"issue_d\"]]\n",
    "trimmed_twice.issue_d = trimmed_twice[\"issue_d\"].apply(modify_date)\n",
    "trimmed_twice.sort_values(by=['issue_d'])\n",
    "int_index_monthly = trimmed_twice.groupby(by=['issue_d']).mean()"
   ]
  },
  {
   "cell_type": "code",
   "execution_count": 55,
   "metadata": {},
   "outputs": [
    {
     "name": "stdout",
     "output_type": "stream",
     "text": [
      "-0.3668372525653875\n"
     ]
    }
   ],
   "source": [
    "# from matplotlib import pyplot as plt\n",
    "x = libor_14_to_18[libor_14_to_18.columns[1]].to_numpy()\n",
    "y = int_index_monthly[int_index_monthly.columns[0]].to_numpy()\n",
    "# plt.xlabel(\"libor\") \n",
    "# plt.ylabel(\"int_index\") \n",
    "# plt.plot(x,y)\n",
    "corr = np.corrcoef(x, y)\n",
    "print(corr[0,1])"
   ]
  },
  {
   "cell_type": "code",
   "execution_count": 19,
   "metadata": {},
   "outputs": [],
   "source": [
    "def trim_accept(accept):\n",
    "\n",
    "    cols = ['loan_amnt', 'title','dti','zip_code','addr_state','emp_length','policy_code']\n",
    "    trimmed_acp = accept[cols]\n",
    "    return trimmed_acp \n",
    "\n",
    "def trim_rej(rej):\n",
    "    return rej[[\"Amount_Requested\", \"Loan_Title\", \"Debt_to_Income_Ratio\", \"Zip_Code\", \"State\", \"Employment_Length\", \"Policy_Code\"]]\n",
    "\n",
    "rejected_dropna = pd.DataFrame(trim_rej(rejected).dropna())\n",
    "accepted_dropna = pd.DataFrame(trim_accept(accepted).dropna())\n",
    "accepted_dropna.columns = ['Amount_Requested', 'Loan_Title', 'Debt_to_Income_Ratio', 'Zip_Code', 'State', 'Employment_Length', 'Policy_Code']\n",
    "accepted_dropna[\"Status\"] = 1\n",
    "rejected_dropna[\"Status\"] = 0\n",
    "rejected_dropna[\"Debt_to_Income_Ratio\"] = rejected_dropna[\"Debt_to_Income_Ratio\"].str.rstrip(\"%\").astype(\"float\") \n",
    "frames = [accepted_dropna,rejected_dropna]\n",
    "merged = pd.concat(frames)\n",
    "merged.Employment_Length = merged.Employment_Length.str[:2]\n",
    "merged.loc[ merged[\"Employment_Length\"] == \"< \", \"Employment_Length\"] = 0.1\n",
    "merged[\"Employment_Length\"] = merged[\"Employment_Length\"].astype(\"float\") "
   ]
  },
  {
   "cell_type": "code",
   "execution_count": 17,
   "metadata": {},
   "outputs": [
    {
     "name": "stdout",
     "output_type": "stream",
     "text": [
      "2\n"
     ]
    }
   ],
   "source": [
    "print(len(merged[\"State\"].to_numpy()[0]))"
   ]
  },
  {
   "cell_type": "code",
   "execution_count": 38,
   "metadata": {},
   "outputs": [
    {
     "name": "stdout",
     "output_type": "stream",
     "text": [
      "{'AL': '50,936', 'AK': '81,680', 'AZ': '61,592', 'AR': '49,518', 'CA': '71,879', 'CO': '76,117', 'CT': '81,895', 'DE': '62,612', 'DC': '76,566', 'FL': '55,202', 'GA': '57,738', 'HI': '77,807', 'ID': '61,014', 'IL': '66,215', 'IN': '60,507', 'IA': '63,743', 'KS': '61,279', 'KY': '48,938', 'LA': '45,515', 'ME': '54,857', 'MD': '79,562', 'MA': '77,951', 'MI': '61,582', 'MN': '75,742', 'MS': '44,332', 'MO': '59,344', 'MT': '61,565', 'NE': '64,045', 'NV': '59,791', 'NH': '82,259', 'NJ': '73,854', 'NM': '52,262', 'NY': '66,270', 'NC': '57,993', 'ND': '64,918', 'OH': '58,232', 'OK': '54,950', 'OR': '63,787', 'PA': '65,776', 'RI': '66,368', 'SC': '58,610', 'SD': '61,969', 'TN': '55,383', 'TX': '62,720', 'UT': '72,789', 'VT': '65,623', 'VA': '71,678', 'WA': '75,841', 'WV': '47,843', 'WI': '64,522', 'WY': '62,378'}\n",
      "None\n"
     ]
    }
   ],
   "source": [
    "income_by_state = pd.read_csv(\"state_average_income_2016.csv\")\n",
    "states = income_by_state[income_by_state.columns[0]].astype(\"str\").to_numpy()[0:51]\n",
    "# income_by_state[\"income\"] = income_by_state[\"income\"].str.rstrip(\",\")\n",
    "# print(income_by_state.columns[\"income\"])\n",
    "incomes = income_by_state[income_by_state.columns[1]].to_numpy()[0:51]\n",
    "\n",
    "income_by_state_dict = dict(zip(states, incomes))\n",
    "print(income_by_state_dict)\n",
    "def modify_state(state):\n",
    "    income_by_state_dict[str(state)]\n",
    "print(modify_state(\"PA\"))\n",
    "# merged.State = merged[\"State\"].apply(modify_state)\n",
    "# print(merged.shape)"
   ]
  },
  {
   "cell_type": "code",
   "execution_count": null,
   "metadata": {},
   "outputs": [],
   "source": [
    "merged = merged.sample(frac=1).reset_index(drop=True)"
   ]
  }
 ],
 "metadata": {
  "kernelspec": {
   "display_name": "Python 3.9.7 ('base')",
   "language": "python",
   "name": "python3"
  },
  "language_info": {
   "codemirror_mode": {
    "name": "ipython",
    "version": 3
   },
   "file_extension": ".py",
   "mimetype": "text/x-python",
   "name": "python",
   "nbconvert_exporter": "python",
   "pygments_lexer": "ipython3",
   "version": "3.9.7"
  },
  "orig_nbformat": 4,
  "vscode": {
   "interpreter": {
    "hash": "3d9c5d2329f6faf7ce76b5f9d314da5f017aa43eb635d140b2b2ddddd59601c2"
   }
  }
 },
 "nbformat": 4,
 "nbformat_minor": 2
}

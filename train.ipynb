{
 "cells": [
  {
   "cell_type": "markdown",
   "metadata": {},
   "source": [
    "# Datathon"
   ]
  },
  {
   "cell_type": "code",
   "execution_count": 3,
   "metadata": {},
   "outputs": [],
   "source": [
    "import pandas as pd"
   ]
  },
  {
   "cell_type": "code",
   "execution_count": 4,
   "metadata": {},
   "outputs": [],
   "source": [
    "rejected = pd.read_csv(\"Lending_Club_Rejected_2014_2018.csv\")"
   ]
  },
  {
   "cell_type": "code",
   "execution_count": 5,
   "metadata": {},
   "outputs": [
    {
     "name": "stderr",
     "output_type": "stream",
     "text": [
      "/var/folders/bh/b7l9xs7133g2k2ztkrf8jywr0000gn/T/ipykernel_56539/2282768605.py:1: DtypeWarning: Columns (19,59,118,129,130,131,134,135,136,139,145,146,147) have mixed types. Specify dtype option on import or set low_memory=False.\n",
      "  accepted = pd.read_csv(\"Lending_Club_Accepted_2014_2018.csv\")\n"
     ]
    }
   ],
   "source": [
    "accepted = pd.read_csv(\"Lending_Club_Accepted_2014_2018.csv\")"
   ]
  },
  {
   "cell_type": "code",
   "execution_count": 6,
   "metadata": {},
   "outputs": [
    {
     "name": "stdout",
     "output_type": "stream",
     "text": [
      "Index(['Amount_Requested', 'Application_Date', 'Loan_Title', 'Risk_Score',\n",
      "       'Debt_to_Income_Ratio', 'Zip_Code', 'State', 'Employment_Length',\n",
      "       'Policy_Code'],\n",
      "      dtype='object')\n",
      "Index(['id', 'member_id', 'loan_amnt', 'funded_amnt', 'funded_amnt_inv',\n",
      "       'term', 'int_rate', 'installment', 'grade', 'sub_grade',\n",
      "       ...\n",
      "       'hardship_payoff_balance_amount', 'hardship_last_payment_amount',\n",
      "       'disbursement_method', 'debt_settlement_flag',\n",
      "       'debt_settlement_flag_date', 'settlement_status', 'settlement_date',\n",
      "       'settlement_amount', 'settlement_percentage', 'settlement_term'],\n",
      "      dtype='object', length=151)\n"
     ]
    }
   ],
   "source": [
    "print(rejected.keys())\n",
    "print(accepted.keys())"
   ]
  },
  {
   "cell_type": "code",
   "execution_count": 7,
   "metadata": {},
   "outputs": [
    {
     "name": "stdout",
     "output_type": "stream",
     "text": [
      "['10+ years' '3 years' '4 years' '6 years' '1 year' '7 years' '8 years'\n",
      " '5 years' '2 years' '9 years' '< 1 year' nan]\n"
     ]
    }
   ],
   "source": [
    "print(accepted['emp_length'].unique())"
   ]
  },
  {
   "cell_type": "code",
   "execution_count": 8,
   "metadata": {},
   "outputs": [],
   "source": [
    "def trim_accept(accept):\n",
    "    cols = ['loan_amnt', 'title','dti','zip_code','addr_state','emp_length','policy_code', 'issue_d']\n",
    "    trimmed_acp = accept[cols]\n",
    "    return trimmed_acp \n",
    "\n",
    "def trim_rej(rej):\n",
    "    return rej[[\"Amount_Requested\", \"Loan_Title\", \"Debt_to_Income_Ratio\", \"Zip_Code\", \"State\", \"Employment_Length\", \"Policy_Code\", 'Application_Date']]"
   ]
  },
  {
   "cell_type": "code",
   "execution_count": 9,
   "metadata": {},
   "outputs": [],
   "source": [
    "rejected_dropna = pd.DataFrame(trim_rej(rejected).dropna())\n",
    "# print(rejected_dropna.shape)"
   ]
  },
  {
   "cell_type": "code",
   "execution_count": 10,
   "metadata": {},
   "outputs": [],
   "source": [
    "accepted_dropna = pd.DataFrame(trim_accept(accepted).dropna())\n",
    "# print(accepted_dropna.shape)\n",
    "accepted_dropna.to_csv(\"accepted_dropna.csv\")"
   ]
  },
  {
   "cell_type": "code",
   "execution_count": 11,
   "metadata": {},
   "outputs": [],
   "source": [
    "rejected_dropna.to_csv('rejected_dropna.csv')\n",
    "accepted_dropna.to_csv(\"accepted_dropna.csv\")"
   ]
  },
  {
   "cell_type": "code",
   "execution_count": 12,
   "metadata": {},
   "outputs": [
    {
     "name": "stderr",
     "output_type": "stream",
     "text": [
      "/var/folders/bh/b7l9xs7133g2k2ztkrf8jywr0000gn/T/ipykernel_56539/4077895458.py:21: SettingWithCopyWarning: \n",
      "A value is trying to be set on a copy of a slice from a DataFrame.\n",
      "Try using .loc[row_indexer,col_indexer] = value instead\n",
      "\n",
      "See the caveats in the documentation: https://pandas.pydata.org/pandas-docs/stable/user_guide/indexing.html#returning-a-view-versus-a-copy\n",
      "  accepted_dropna['month'] = accepted_dropna['issue_d'].str[0:3].map(monthNameToInt)\n"
     ]
    },
    {
     "name": "stdout",
     "output_type": "stream",
     "text": [
      "         loan_amnt                    title    dti zip_code addr_state  \\\n",
      "651660     10000.0       Debt consolidation  13.05    447xx         OH   \n",
      "651661     12000.0       Debt consolidation  22.86    774xx         TX   \n",
      "651662     20000.0  Credit card refinancing  17.05    960xx         CA   \n",
      "651663      4900.0         Home improvement   6.07    770xx         TX   \n",
      "651664     21000.0       Debt consolidation   9.87    913xx         CA   \n",
      "...            ...                      ...    ...      ...        ...   \n",
      "2029945    16000.0         Medical expenses  12.25    284xx         NC   \n",
      "2029946    24000.0  Credit card refinancing  10.98    967xx         HI   \n",
      "2029947    24000.0         Home improvement  19.61    356xx         AL   \n",
      "2029948    24000.0       Debt consolidation  34.94    840xx         UT   \n",
      "2029950    24000.0       Debt consolidation  18.30    334xx         FL   \n",
      "\n",
      "        emp_length  policy_code  month  \n",
      "651660     3 years          1.0      6  \n",
      "651661     7 years          1.0      6  \n",
      "651662     8 years          1.0      6  \n",
      "651663    < 1 year          1.0      6  \n",
      "651664    < 1 year          1.0      6  \n",
      "...            ...          ...    ...  \n",
      "2029945  10+ years          1.0     10  \n",
      "2029946    4 years          1.0     10  \n",
      "2029947    7 years          1.0     10  \n",
      "2029948  10+ years          1.0     10  \n",
      "2029950    6 years          1.0     10  \n",
      "\n",
      "[386223 rows x 8 columns]\n"
     ]
    }
   ],
   "source": [
    "\n",
    "def unifyDate(accepted_dropna, rejected_dropna):\n",
    "    '''Only keep the samples from 2016/4 to 2016/12 and unify the data format to be one integer representing the month'''\n",
    "    monthNameToInt = {\n",
    "        \"Jan\": 1,\n",
    "        \"Feb\": 2,\n",
    "        \"Mar\": 3,\n",
    "        \"Apr\": 4,\n",
    "        \"May\": 5,\n",
    "        \"Jun\": 6,\n",
    "        \"Jul\": 7,\n",
    "        \"Aug\": 8,\n",
    "        \"Sep\": 9,\n",
    "        \"Oct\": 10,\n",
    "        \"Nov\": 11,\n",
    "        \"Dec\": 12\n",
    "    }\n",
    "    \n",
    "    ## Proccess accepted\n",
    "    # filter to keep the 2016 year\n",
    "    accepted_dropna = accepted_dropna[accepted_dropna['issue_d'].str.endswith('2016')]\n",
    "    accepted_dropna['month'] = accepted_dropna['issue_d'].str[0:3].map(monthNameToInt)\n",
    "    del accepted_dropna['issue_d']\n",
    "\n",
    "    ## Process rejected\n",
    "    rejected_dropna['month'] = rejected_dropna['Application_Date'].str[5:7].astype(int)\n",
    "    del rejected_dropna['Application_Date']\n",
    "    \n",
    "    ## Final\n",
    "    return (accepted_dropna, rejected_dropna)\n",
    "\n",
    "accepted_dropna, rejected_dropna = unifyDate(accepted_dropna, rejected_dropna)\n",
    "print(accepted_dropna)"
   ]
  },
  {
   "cell_type": "code",
   "execution_count": 13,
   "metadata": {},
   "outputs": [],
   "source": [
    "accepted_dropna.columns = ['Amount_Requested', 'Loan_Title', 'Debt_to_Income_Ratio', 'Zip_Code', 'State', 'Employment_Length', 'Policy_Code', 'month']"
   ]
  },
  {
   "cell_type": "code",
   "execution_count": 14,
   "metadata": {},
   "outputs": [],
   "source": [
    "accepted_dropna[\"Status\"] = 1\n",
    "rejected_dropna[\"Status\"] = 0\n",
    "rejected_dropna[\"Debt_to_Income_Ratio\"] = rejected_dropna[\"Debt_to_Income_Ratio\"].str.rstrip(\"%\").astype(\"float\") \n",
    "frames = [accepted_dropna,rejected_dropna]\n",
    "merged = pd.concat(frames)"
   ]
  },
  {
   "cell_type": "code",
   "execution_count": 15,
   "metadata": {},
   "outputs": [],
   "source": [
    "merged.Employment_Length = merged.Employment_Length.str[:2]\n",
    "merged.loc[ merged[\"Employment_Length\"] == \"< \", \"Employment_Length\"] = 0.1\n",
    "merged[\"Employment_Length\"] = merged[\"Employment_Length\"].astype(\"float\") "
   ]
  },
  {
   "cell_type": "code",
   "execution_count": 16,
   "metadata": {},
   "outputs": [],
   "source": [
    "merged_copy = merged.copy()"
   ]
  },
  {
   "cell_type": "code",
   "execution_count": 17,
   "metadata": {},
   "outputs": [
    {
     "name": "stdout",
     "output_type": "stream",
     "text": [
      "Index(['Amount_Requested', 'Loan_Title', 'Debt_to_Income_Ratio', 'Zip_Code',\n",
      "       'State', 'Employment_Length', 'Policy_Code', 'month', 'Status'],\n",
      "      dtype='object')\n"
     ]
    }
   ],
   "source": [
    "print(merged.keys())"
   ]
  },
  {
   "cell_type": "code",
   "execution_count": 18,
   "metadata": {},
   "outputs": [],
   "source": [
    "income_by_state = pd.read_csv(\"state_average_income_2016.csv\")\n",
    "states = income_by_state[income_by_state.columns[0]].to_numpy()\n",
    "states = np.array(states)\n",
    "income_by_state = income_by_state[0:51]\n",
    "income_by_state = income_by_state[['state', 'income']]\n",
    "\n",
    "incomes = income_by_state[income_by_state.columns[1]].to_numpy()\n",
    "income_by_state_dict = dict(zip(states, incomes))\n",
    "def modify_state(state):\n",
    "    income_by_state_dict[state]"
   ]
  },
  {
   "cell_type": "code",
   "execution_count": 19,
   "metadata": {},
   "outputs": [],
   "source": [
    "merged_copy2 = merged_copy.copy()"
   ]
  },
  {
   "cell_type": "code",
   "execution_count": 20,
   "metadata": {},
   "outputs": [],
   "source": [
    "merged_copy2[\"State\"] = merged_copy2[\"State\"].map(income_by_state_dict).str.replace(',', \"\").astype(int)"
   ]
  },
  {
   "cell_type": "code",
   "execution_count": 21,
   "metadata": {},
   "outputs": [
    {
     "name": "stdout",
     "output_type": "stream",
     "text": [
      "          Amount_Requested               Loan_Title  Debt_to_Income_Ratio  \\\n",
      "651660             10000.0       Debt consolidation                 13.05   \n",
      "651661             12000.0       Debt consolidation                 22.86   \n",
      "651662             20000.0  Credit card refinancing                 17.05   \n",
      "651663              4900.0         Home improvement                  6.07   \n",
      "651664             21000.0       Debt consolidation                  9.87   \n",
      "...                    ...                      ...                   ...   \n",
      "26132303           10000.0       Debt consolidation                 41.26   \n",
      "26132304           10000.0                   moving                  1.48   \n",
      "26132305            1200.0                    Other                 10.26   \n",
      "26132306           25000.0       debt_consolidation                 17.71   \n",
      "26132307           15000.0                 Business                 10.58   \n",
      "\n",
      "         Zip_Code  State  Employment_Length  Policy_Code  month  Status  \n",
      "651660      447xx  58232                3.0          1.0      6       1  \n",
      "651661      774xx  62720                7.0          1.0      6       1  \n",
      "651662      960xx  71879                8.0          1.0      6       1  \n",
      "651663      770xx  62720                0.1          1.0      6       1  \n",
      "651664      913xx  71879                0.1          1.0      6       1  \n",
      "...           ...    ...                ...          ...    ...     ...  \n",
      "26132303    441xx  58232                0.1          0.0     12       0  \n",
      "26132304    207xx  79562                5.0          0.0     12       0  \n",
      "26132305    914xx  71879                0.1          0.0     12       0  \n",
      "26132306    880xx  52262                0.1          0.0     12       0  \n",
      "26132307    113xx  66270                0.1          0.0     12       0  \n",
      "\n",
      "[25584076 rows x 9 columns]\n"
     ]
    }
   ],
   "source": [
    "merged = merged_copy2\n",
    "print(merged)"
   ]
  },
  {
   "cell_type": "code",
   "execution_count": 22,
   "metadata": {},
   "outputs": [],
   "source": [
    "merged = merged.sample(frac=1).reset_index(drop=True)\n",
    "# display the dataFrame without line breaks\n",
    "pd.set_option('display.expand_frame_repr', False)"
   ]
  },
  {
   "cell_type": "code",
   "execution_count": 23,
   "metadata": {},
   "outputs": [
    {
     "name": "stdout",
     "output_type": "stream",
     "text": [
      "Index(['1', '2', '3', '4', '5', '6', '7', '8', '9', '10', '11', '12'], dtype='object')\n"
     ]
    },
    {
     "data": {
      "image/png": "[encoded data removed]",
      "text/plain": [
       "<Figure size 432x288 with 1 Axes>"
      ]
     },
     "metadata": {
      "needs_background": "light"
     },
     "output_type": "display_data"
    }
   ],
   "source": [
    "from matplotlib import pyplot as plt\n",
    "libor = pd.read_csv('libor.csv')\n",
    "print(libor.keys())\n",
    "month = list(libor.columns)\n",
    "index = list(libor.iloc[0])\n",
    "\n",
    "plt.plot(month,index, label=\"Libor By Month, 2016\")\n",
    "leg = plt.legend(loc='upper center')\n",
    "plt.show()"
   ]
  },
  {
   "cell_type": "code",
   "execution_count": 24,
   "metadata": {},
   "outputs": [
    {
     "name": "stdout",
     "output_type": "stream",
     "text": [
      "[[-2.614157641638978e-06, -0.01648258652084902, 0.46671122493428013, 0.08992922345379885, -7.89818662856636e-05], [-2.847242010036561e-07, -0.01652592837875784, 0.4733565068757096, 0.09154618509069806, -8.474690811894779e-05], [7.426120777168704e-06, -0.019978197521955798, 0.44784963260316435, 0.09152302607309347, -8.314862255050298e-05], [7.35387417363786e-07, -0.02097932884700583, 0.4554751870158912, 0.09128095713317147, -8.27156684134999e-05], [6.702281021674935e-07, -0.020957772842833695, 0.4646212975559942, 0.09115619282215752, -8.226701941623822e-05], [-9.33273312680362e-07, -0.023537619215206668, 0.4661059707760068, 0.089967811702189, -8.257583341205381e-05], [-2.693001334841778e-06, -0.021719655309100916, 0.4779220578743743, 0.08777725224970444, -8.075798947262817e-05], [4.60145674216109e-07, -0.021250927262183406, 0.4783329506419904, 0.08809254779468122, -8.026637630974963e-05], [3.7619765301972104e-06, -0.01893031360130485, 0.47653456863901006, 0.09212625276398702, -8.128820884139952e-05]]\n",
      "{4: 1.0, 5: 1.0, 6: 1.0, 7: 1.0, 8: 1.0, 9: 1.0, 10: 1.0, 11: 1.0, 12: 1.0}\n"
     ]
    }
   ],
   "source": [
    "monthly_para = []\n",
    "monthly_accur = {}\n",
    "\n",
    "### Import scikit learn libraries\n",
    "from sklearn.linear_model import LogisticRegression\n",
    "from sklearn.model_selection import train_test_split\n",
    "from sklearn import preprocessing\n",
    "from sklearn import metrics\n",
    "\n",
    "for m in range (4,13):\n",
    "    #select the corresponding month in libor and merge\n",
    "    month_merge = merged.loc[merged['month'] == m]\n",
    "    numerical_features = [\"Amount_Requested\", \"Debt_to_Income_Ratio\", \"Employment_Length\", \"Policy_Code\", \"State\"]\n",
    "    X = month_merge[numerical_features]\n",
    "    y = month_merge[\"Status\"]\n",
    "    X_train, X_test, y_train, y_test = train_test_split(X, y, test_size=0.3, random_state=0)\n",
    "\n",
    "    # Build Classifier\n",
    "    logreg = LogisticRegression(max_iter=1000000)\n",
    "    LogRegClassifier = logreg.fit(X_train, y_train)\n",
    "\n",
    "    # Visualize weights\n",
    "    coef = LogRegClassifier.coef_[0]\n",
    "    monthly_para.append(list(coef))\n",
    "\n",
    "    # Test Accuracy\n",
    "    y_hat = LogRegClassifier.predict(X_test)\n",
    "    accuracy = metrics.accuracy_score(y_hat, y_hat)\n",
    "    monthly_accur[m] = accuracy\n",
    "\n",
    "print(monthly_para)\n",
    "print(monthly_accur)\n",
    "\n",
    "# find the parameter that has the highest correlation with\n",
    "import numpy as np"
   ]
  },
  {
   "cell_type": "code",
   "execution_count": 25,
   "metadata": {},
   "outputs": [
    {
     "name": "stdout",
     "output_type": "stream",
     "text": [
      "------\n",
      "-0.03756742688661683\n",
      "-0.5321675892412779\n",
      "0.6318750410107173\n",
      "-0.3234503128386972\n",
      "0.31642684966864976\n"
     ]
    }
   ],
   "source": [
    "monthly_params = np.array(monthly_para)\n",
    "#print(monthly_params)\n",
    "print('------')\n",
    "\n",
    "index = list(libor.iloc[0])\n",
    "index = index[3:]\n",
    "index = np.array(index)\n",
    "\n",
    "all_params_by_month = []\n",
    "for col in range(5):\n",
    "    # the weights of one feature from all months\n",
    "    param_by_month = np.array(monthly_params[:, col])\n",
    "    R = np.corrcoef(param_by_month, index)\n",
    "    print(R[0, 1])"
   ]
  },
  {
   "cell_type": "markdown",
   "metadata": {},
   "source": [
    "## Integrate analysis with LIBOR data"
   ]
  },
  {
   "cell_type": "code",
   "execution_count": 26,
   "metadata": {},
   "outputs": [],
   "source": [
    "libor = pd.read_csv(\"LIBOR14to18.csv\")"
   ]
  },
  {
   "cell_type": "code",
   "execution_count": 27,
   "metadata": {},
   "outputs": [
    {
     "name": "stderr",
     "output_type": "stream",
     "text": [
      "/var/folders/bh/b7l9xs7133g2k2ztkrf8jywr0000gn/T/ipykernel_56539/615992061.py:10: SettingWithCopyWarning: \n",
      "A value is trying to be set on a copy of a slice from a DataFrame.\n",
      "Try using .loc[row_indexer,col_indexer] = value instead\n",
      "\n",
      "See the caveats in the documentation: https://pandas.pydata.org/pandas-docs/stable/user_guide/indexing.html#returning-a-view-versus-a-copy\n",
      "  trimmed.issue_d = trimmed[\"issue_d\"].apply(modify_date)\n"
     ]
    },
    {
     "name": "stdout",
     "output_type": "stream",
     "text": [
      "          int_rate\n",
      "issue_d           \n",
      "201401   14.209685\n",
      "201402   14.314247\n",
      "201403   14.453305\n",
      "201404   14.395606\n",
      "201405   13.959840\n",
      "201406   13.850323\n",
      "201407   13.919243\n",
      "201408   13.892222\n",
      "201409   13.392782\n",
      "201410   13.298481\n",
      "201411   13.093683\n",
      "201412   12.705817\n",
      "201501   13.053058\n",
      "201502   12.726625\n",
      "201503   12.772612\n",
      "201504   12.789420\n",
      "201505   12.749449\n",
      "201506   12.761709\n",
      "201507   12.705187\n",
      "201508   12.590873\n",
      "201509   12.657968\n",
      "201510   12.281337\n",
      "201511   12.169902\n",
      "201512   12.279697\n",
      "201601   12.290103\n",
      "201602   12.547103\n",
      "201603   12.526671\n",
      "201604   12.429358\n",
      "201605   12.503870\n",
      "201606   12.509503\n",
      "201607   13.685528\n",
      "201608   13.646460\n",
      "201609   13.866895\n",
      "201610   13.571570\n",
      "201611   13.549768\n",
      "201612   13.829173\n",
      "201701   13.564876\n",
      "201702   13.389176\n",
      "201703   13.183129\n",
      "201704   13.299691\n",
      "201705   13.292932\n",
      "201706   13.263503\n",
      "201707   13.430335\n",
      "201708   13.235223\n",
      "201709   13.760751\n",
      "201710   13.211537\n",
      "201711   12.776701\n",
      "201712   12.651806\n",
      "201801   12.385711\n",
      "201802   12.460285\n",
      "201803   12.430405\n",
      "201804   12.531481\n",
      "201805   12.585520\n",
      "201806   12.561079\n",
      "201807   13.080953\n",
      "201808   12.988657\n",
      "201809   12.779897\n",
      "201810   12.749912\n",
      "201811   13.081592\n",
      "201812   12.980739\n"
     ]
    }
   ],
   "source": [
    "def modify_date(input_date):\n",
    "    input_year = input_date[-4:]\n",
    "    input_month = input_date[0:3]\n",
    "    month_dict = {\"Jan\": \"01\", \"Feb\": \"02\", \"Mar\": \"03\", \"Apr\": \"04\", \"May\": \"05\", \n",
    "    \"Jun\": \"06\", \"Jul\": \"07\", \"Aug\": \"08\", \"Sep\": \"09\", \"Oct\": \"10\", \"Nov\": \"11\", \"Dec\": \"12\"}\n",
    "    month = month_dict[input_month]\n",
    "    return input_year + month\n",
    "\n",
    "trimmed = accepted[[\"int_rate\", \"issue_d\"]]\n",
    "trimmed.issue_d = trimmed[\"issue_d\"].apply(modify_date)\n",
    "trimmed.sort_values(by=['issue_d'])\n",
    "int_rate_monthly = trimmed.groupby(by=['issue_d']).mean()\n",
    "print(int_rate_monthly)"
   ]
  },
  {
   "cell_type": "code",
   "execution_count": 28,
   "metadata": {},
   "outputs": [
    {
     "name": "stdout",
     "output_type": "stream",
     "text": [
      "[0.2386 0.2352 0.2341 0.2273 0.2261 0.2309 0.2342 0.2348 0.234  0.2314\n",
      " 0.2329 0.2457 0.2544 0.2584 0.2683 0.2758 0.2798 0.2827 0.2907 0.3212\n",
      " 0.3311 0.3214 0.371  0.5393 0.6196 0.6227 0.6317 0.6328 0.6457 0.6516\n",
      " 0.6963 0.8112 0.8497 0.8787 0.9085 0.9773 1.0244 1.0446 1.1347 1.159\n",
      " 1.186  1.2624 1.3075 1.3143 1.3233 1.3608 1.4342 1.6098 1.7322 1.8747\n",
      " 2.1796 2.3476 2.3363 2.3303 2.3391 2.3233 2.3494 2.4606 2.6492 2.7902]\n",
      "[14.20968518 14.31424717 14.45330467 14.39560589 13.95983978 13.85032307\n",
      " 13.9192435  13.89222228 13.39278239 13.29848078 13.09368285 12.70581741\n",
      " 13.05305808 12.72662474 12.7726122  12.78941993 12.74944881 12.76170862\n",
      " 12.70518711 12.59087332 12.6579676  12.28133742 12.16990248 12.27969691\n",
      " 12.29010289 12.54710314 12.52667134 12.42935826 12.50387001 12.50950332\n",
      " 13.68552801 13.64646003 13.86689525 13.57156994 13.54976844 13.82917282\n",
      " 13.56487577 13.38917624 13.18312929 13.29969107 13.29293225 13.26350303\n",
      " 13.4303349  13.23522342 13.76075064 13.21153705 12.77670123 12.65180558\n",
      " 12.38571134 12.46028461 12.4304052  12.53148085 12.58551985 12.56107914\n",
      " 13.08095268 12.98865731 12.77989699 12.74991232 13.08159221 12.98073878]\n",
      "[[1.         0.72462296]\n",
      " [0.72462296 1.        ]]\n"
     ]
    }
   ],
   "source": [
    "import numpy as np\n",
    "x = libor[libor.columns[1]].to_numpy()\n",
    "print(x)\n",
    "# x = libor[[\"int_rate\"]].to_numpy()\n",
    "y = int_rate_monthly[int_rate_monthly.columns[0]].to_numpy()\n",
    "print(y)\n",
    "corr = np.corrcoef(x[48:60], y[48:60])\n",
    "print(corr)"
   ]
  },
  {
   "cell_type": "markdown",
   "metadata": {},
   "source": [
    "### Train SP 500"
   ]
  },
  {
   "cell_type": "code",
   "execution_count": 29,
   "metadata": {},
   "outputs": [
    {
     "name": "stdout",
     "output_type": "stream",
     "text": [
      "------\n",
      "[0.13084119373312983, -0.4724583860941195, 0.36624630745575176, 0.033600294119351046, 0.21916882070454655]\n"
     ]
    }
   ],
   "source": [
    "import numpy as np\n",
    "from bs4 import BeautifulSoup\n",
    "import requests\n",
    "#the website URL\n",
    "url_link = \"https://www.multpl.com/s-p-500-historical-prices/table/by-month\"\n",
    "result = requests.get(url_link).text\n",
    "doc = BeautifulSoup(result, \"html.parser\")\n",
    "\n",
    "date = doc.select(\".left\")\n",
    "price = doc.select(\".right\")\n",
    "\n",
    "historical_date = []\n",
    "historical_price = []\n",
    "\n",
    "\n",
    "for time in range (69,81):\n",
    "    historical_date.append(str(date[time])[17:28])\n",
    "    historical_price.append(float(str(price[time])[18:26].replace(\",\",'')))\n",
    "\n",
    "historical_date.reverse()\n",
    "historical_price.reverse()\n",
    "monthly_params = np.array(monthly_para)\n",
    "#print(monthly_params)\n",
    "print('------')\n",
    "\n",
    "index = historical_price\n",
    "index = index[3:]\n",
    "index = np.array(index)\n",
    "\n",
    "all_params_by_month = []\n",
    "s = []\n",
    "for col in range(5):\n",
    "    # the weights of one feature from all months\n",
    "    param_by_month = np.array(monthly_params[:, col])\n",
    "    R = np.corrcoef(param_by_month, index)\n",
    "    s.append(R[0, 1])\n",
    "\n",
    "print(s)"
   ]
  },
  {
   "cell_type": "markdown",
   "metadata": {},
   "source": [
    "## Logistic Regression Sample code"
   ]
  },
  {
   "cell_type": "code",
   "execution_count": 30,
   "metadata": {},
   "outputs": [
    {
     "name": "stdout",
     "output_type": "stream",
     "text": [
      "(25584076, 4)\n",
      "(25584076,)\n"
     ]
    }
   ],
   "source": [
    "### Extract all the numerical features(columns)\n",
    "numerical_features = [\"Amount_Requested\", \"Debt_to_Income_Ratio\", \"Employment_Length\", \"Policy_Code\"]\n",
    "\n",
    "X = merged[numerical_features]\n",
    "y = merged[\"Status\"]\n",
    "\n",
    "print(X.shape)\n",
    "print(y.shape)"
   ]
  },
  {
   "cell_type": "code",
   "execution_count": 31,
   "metadata": {},
   "outputs": [],
   "source": [
    "### Import scikit learn libraries\n",
    "from sklearn.linear_model import LogisticRegression\n",
    "from sklearn.model_selection import train_test_split\n",
    "from sklearn import preprocessing\n",
    "from sklearn import metrics"
   ]
  },
  {
   "cell_type": "code",
   "execution_count": 32,
   "metadata": {},
   "outputs": [
    {
     "name": "stdout",
     "output_type": "stream",
     "text": [
      "0    25197853\n",
      "1      386223\n",
      "Name: Status, dtype: int64\n",
      "y=1 samples takes the porportion of 0.06914884990744814\n"
     ]
    }
   ],
   "source": [
    "### Data exploration\n",
    "print(merged[\"Status\"].value_counts())\n",
    "print(\"y=1 samples takes the porportion of\", 1871838 / (25197853 + 1871838))"
   ]
  },
  {
   "cell_type": "code",
   "execution_count": null,
   "metadata": {},
   "outputs": [],
   "source": [
    "def LinearRegressionTrainAndTest(X, y):\n",
    "    '''Prints the weights and the accuracy of the model'''\n",
    "    # Split train and test sets\n",
    "    X_train, X_test, y_train, y_test = train_test_split(X, y, test_size=0.3, random_state=0)\n",
    "\n",
    "    # Build Classifier\n",
    "    logreg = LogisticRegression(max_iter=1000000)\n",
    "    LogRegClassifier = logreg.fit(X_train, y_train)\n",
    "\n",
    "    # Visualize weights\n",
    "    coef = LogRegClassifier.coef_[0]\n",
    "    print(coef)\n",
    "\n",
    "    # Test Accuracy\n",
    "    y_hat = LogRegClassifier.predict(X_test)\n",
    "    accuracy = metrics.accuracy_score(y_hat, y_hat)\n",
    "    print(accuracy)"
   ]
  },
  {
   "cell_type": "markdown",
   "metadata": {},
   "source": [
    "#### Result\n",
    "Data | State | Weights | Accuracy\n",
    "| --- | --- | --- | --- |\n",
    "First 1000 samples | converged | [-3.86427605e-06 -7.79187122e-03  2.72544483e-01  4.93654007e+00] |\n",
    "First 100000 samples | converged | [-1.82404211e-05 -1.88134360e-02  2.03956568e-01  7.15292616e+00] | \n",
    "First 1000000 samples | converged | [-2.71159981e-05 -1.78985938e-02  2.21481719e-01  7.37541925e+00] | \n",
    "Full data set | converged | [-2.21539709e-05 -1.73101075e-02  2.18396270e-01  7.38836630e+00] | 0.9969306387906377\n",
    " "
   ]
  }
 ],
 "metadata": {
  "kernelspec": {
   "display_name": "Python 3.8.5 64-bit",
   "language": "python",
   "name": "python3"
  },
  "language_info": {
   "codemirror_mode": {
    "name": "ipython",
    "version": 3
   },
   "file_extension": ".py",
   "mimetype": "text/x-python",
   "name": "python",
   "nbconvert_exporter": "python",
   "pygments_lexer": "ipython3",
   "version": "3.8.5"
  },
  "orig_nbformat": 4,
  "vscode": {
   "interpreter": {
    "hash": "0adcc2737ebf6a4a119f135174df96668767fca1ef1112612db5ecadf2b6d608"
   }
  }
 },
 "nbformat": 4,
 "nbformat_minor": 2
}

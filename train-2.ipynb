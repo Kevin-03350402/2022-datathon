{
 "cells": [
  {
   "cell_type": "markdown",
   "metadata": {},
   "source": [
    "# Datathon"
   ]
  },
  {
   "cell_type": "code",
   "execution_count": 1,
   "metadata": {},
   "outputs": [],
   "source": [
    "import pandas as pd"
   ]
  },
  {
   "cell_type": "code",
   "execution_count": 2,
   "metadata": {},
   "outputs": [
    {
     "ename": "FileNotFoundError",
     "evalue": "[Errno 2] No such file or directory: 'Lending_Club_Rejected_2014_2018.csv'",
     "output_type": "error",
     "traceback": [
      "\u001b[0;31m---------------------------------------------------------------------------\u001b[0m",
      "\u001b[0;31mFileNotFoundError\u001b[0m                         Traceback (most recent call last)",
      "\u001b[0;32m/var/folders/f7/mxxrlbm13fs9b4cslnsfvv_m0000gn/T/ipykernel_99882/3394056290.py\u001b[0m in \u001b[0;36m<module>\u001b[0;34m\u001b[0m\n\u001b[0;32m----> 1\u001b[0;31m \u001b[0mrejected\u001b[0m \u001b[0;34m=\u001b[0m \u001b[0mpd\u001b[0m\u001b[0;34m.\u001b[0m\u001b[0mread_csv\u001b[0m\u001b[0;34m(\u001b[0m\u001b[0;34m\"Lending_Club_Rejected_2014_2018.csv\"\u001b[0m\u001b[0;34m)\u001b[0m\u001b[0;34m\u001b[0m\u001b[0;34m\u001b[0m\u001b[0m\n\u001b[0m",
      "\u001b[0;32m/usr/local/lib/python3.7/site-packages/pandas/util/_decorators.py\u001b[0m in \u001b[0;36mwrapper\u001b[0;34m(*args, **kwargs)\u001b[0m\n\u001b[1;32m    309\u001b[0m                     \u001b[0mstacklevel\u001b[0m\u001b[0;34m=\u001b[0m\u001b[0mstacklevel\u001b[0m\u001b[0;34m,\u001b[0m\u001b[0;34m\u001b[0m\u001b[0;34m\u001b[0m\u001b[0m\n\u001b[1;32m    310\u001b[0m                 )\n\u001b[0;32m--> 311\u001b[0;31m             \u001b[0;32mreturn\u001b[0m \u001b[0mfunc\u001b[0m\u001b[0;34m(\u001b[0m\u001b[0;34m*\u001b[0m\u001b[0margs\u001b[0m\u001b[0;34m,\u001b[0m \u001b[0;34m**\u001b[0m\u001b[0mkwargs\u001b[0m\u001b[0;34m)\u001b[0m\u001b[0;34m\u001b[0m\u001b[0;34m\u001b[0m\u001b[0m\n\u001b[0m\u001b[1;32m    312\u001b[0m \u001b[0;34m\u001b[0m\u001b[0m\n\u001b[1;32m    313\u001b[0m         \u001b[0;32mreturn\u001b[0m \u001b[0mwrapper\u001b[0m\u001b[0;34m\u001b[0m\u001b[0;34m\u001b[0m\u001b[0m\n",
      "\u001b[0;32m/usr/local/lib/python3.7/site-packages/pandas/io/parsers/readers.py\u001b[0m in \u001b[0;36mread_csv\u001b[0;34m(filepath_or_buffer, sep, delimiter, header, names, index_col, usecols, squeeze, prefix, mangle_dupe_cols, dtype, engine, converters, true_values, false_values, skipinitialspace, skiprows, skipfooter, nrows, na_values, keep_default_na, na_filter, verbose, skip_blank_lines, parse_dates, infer_datetime_format, keep_date_col, date_parser, dayfirst, cache_dates, iterator, chunksize, compression, thousands, decimal, lineterminator, quotechar, quoting, doublequote, escapechar, comment, encoding, encoding_errors, dialect, error_bad_lines, warn_bad_lines, on_bad_lines, delim_whitespace, low_memory, memory_map, float_precision, storage_options)\u001b[0m\n\u001b[1;32m    584\u001b[0m     \u001b[0mkwds\u001b[0m\u001b[0;34m.\u001b[0m\u001b[0mupdate\u001b[0m\u001b[0;34m(\u001b[0m\u001b[0mkwds_defaults\u001b[0m\u001b[0;34m)\u001b[0m\u001b[0;34m\u001b[0m\u001b[0;34m\u001b[0m\u001b[0m\n\u001b[1;32m    585\u001b[0m \u001b[0;34m\u001b[0m\u001b[0m\n\u001b[0;32m--> 586\u001b[0;31m     \u001b[0;32mreturn\u001b[0m \u001b[0m_read\u001b[0m\u001b[0;34m(\u001b[0m\u001b[0mfilepath_or_buffer\u001b[0m\u001b[0;34m,\u001b[0m \u001b[0mkwds\u001b[0m\u001b[0;34m)\u001b[0m\u001b[0;34m\u001b[0m\u001b[0;34m\u001b[0m\u001b[0m\n\u001b[0m\u001b[1;32m    587\u001b[0m \u001b[0;34m\u001b[0m\u001b[0m\n\u001b[1;32m    588\u001b[0m \u001b[0;34m\u001b[0m\u001b[0m\n",
      "\u001b[0;32m/usr/local/lib/python3.7/site-packages/pandas/io/parsers/readers.py\u001b[0m in \u001b[0;36m_read\u001b[0;34m(filepath_or_buffer, kwds)\u001b[0m\n\u001b[1;32m    480\u001b[0m \u001b[0;34m\u001b[0m\u001b[0m\n\u001b[1;32m    481\u001b[0m     \u001b[0;31m# Create the parser.\u001b[0m\u001b[0;34m\u001b[0m\u001b[0;34m\u001b[0m\u001b[0;34m\u001b[0m\u001b[0m\n\u001b[0;32m--> 482\u001b[0;31m     \u001b[0mparser\u001b[0m \u001b[0;34m=\u001b[0m \u001b[0mTextFileReader\u001b[0m\u001b[0;34m(\u001b[0m\u001b[0mfilepath_or_buffer\u001b[0m\u001b[0;34m,\u001b[0m \u001b[0;34m**\u001b[0m\u001b[0mkwds\u001b[0m\u001b[0;34m)\u001b[0m\u001b[0;34m\u001b[0m\u001b[0;34m\u001b[0m\u001b[0m\n\u001b[0m\u001b[1;32m    483\u001b[0m \u001b[0;34m\u001b[0m\u001b[0m\n\u001b[1;32m    484\u001b[0m     \u001b[0;32mif\u001b[0m \u001b[0mchunksize\u001b[0m \u001b[0;32mor\u001b[0m \u001b[0miterator\u001b[0m\u001b[0;34m:\u001b[0m\u001b[0;34m\u001b[0m\u001b[0;34m\u001b[0m\u001b[0m\n",
      "\u001b[0;32m/usr/local/lib/python3.7/site-packages/pandas/io/parsers/readers.py\u001b[0m in \u001b[0;36m__init__\u001b[0;34m(self, f, engine, **kwds)\u001b[0m\n\u001b[1;32m    809\u001b[0m             \u001b[0mself\u001b[0m\u001b[0;34m.\u001b[0m\u001b[0moptions\u001b[0m\u001b[0;34m[\u001b[0m\u001b[0;34m\"has_index_names\"\u001b[0m\u001b[0;34m]\u001b[0m \u001b[0;34m=\u001b[0m \u001b[0mkwds\u001b[0m\u001b[0;34m[\u001b[0m\u001b[0;34m\"has_index_names\"\u001b[0m\u001b[0;34m]\u001b[0m\u001b[0;34m\u001b[0m\u001b[0;34m\u001b[0m\u001b[0m\n\u001b[1;32m    810\u001b[0m \u001b[0;34m\u001b[0m\u001b[0m\n\u001b[0;32m--> 811\u001b[0;31m         \u001b[0mself\u001b[0m\u001b[0;34m.\u001b[0m\u001b[0m_engine\u001b[0m \u001b[0;34m=\u001b[0m \u001b[0mself\u001b[0m\u001b[0;34m.\u001b[0m\u001b[0m_make_engine\u001b[0m\u001b[0;34m(\u001b[0m\u001b[0mself\u001b[0m\u001b[0;34m.\u001b[0m\u001b[0mengine\u001b[0m\u001b[0;34m)\u001b[0m\u001b[0;34m\u001b[0m\u001b[0;34m\u001b[0m\u001b[0m\n\u001b[0m\u001b[1;32m    812\u001b[0m \u001b[0;34m\u001b[0m\u001b[0m\n\u001b[1;32m    813\u001b[0m     \u001b[0;32mdef\u001b[0m \u001b[0mclose\u001b[0m\u001b[0;34m(\u001b[0m\u001b[0mself\u001b[0m\u001b[0;34m)\u001b[0m\u001b[0;34m:\u001b[0m\u001b[0;34m\u001b[0m\u001b[0;34m\u001b[0m\u001b[0m\n",
      "\u001b[0;32m/usr/local/lib/python3.7/site-packages/pandas/io/parsers/readers.py\u001b[0m in \u001b[0;36m_make_engine\u001b[0;34m(self, engine)\u001b[0m\n\u001b[1;32m   1038\u001b[0m             )\n\u001b[1;32m   1039\u001b[0m         \u001b[0;31m# error: Too many arguments for \"ParserBase\"\u001b[0m\u001b[0;34m\u001b[0m\u001b[0;34m\u001b[0m\u001b[0;34m\u001b[0m\u001b[0m\n\u001b[0;32m-> 1040\u001b[0;31m         \u001b[0;32mreturn\u001b[0m \u001b[0mmapping\u001b[0m\u001b[0;34m[\u001b[0m\u001b[0mengine\u001b[0m\u001b[0;34m]\u001b[0m\u001b[0;34m(\u001b[0m\u001b[0mself\u001b[0m\u001b[0;34m.\u001b[0m\u001b[0mf\u001b[0m\u001b[0;34m,\u001b[0m \u001b[0;34m**\u001b[0m\u001b[0mself\u001b[0m\u001b[0;34m.\u001b[0m\u001b[0moptions\u001b[0m\u001b[0;34m)\u001b[0m  \u001b[0;31m# type: ignore[call-arg]\u001b[0m\u001b[0;34m\u001b[0m\u001b[0;34m\u001b[0m\u001b[0m\n\u001b[0m\u001b[1;32m   1041\u001b[0m \u001b[0;34m\u001b[0m\u001b[0m\n\u001b[1;32m   1042\u001b[0m     \u001b[0;32mdef\u001b[0m \u001b[0m_failover_to_python\u001b[0m\u001b[0;34m(\u001b[0m\u001b[0mself\u001b[0m\u001b[0;34m)\u001b[0m\u001b[0;34m:\u001b[0m\u001b[0;34m\u001b[0m\u001b[0;34m\u001b[0m\u001b[0m\n",
      "\u001b[0;32m/usr/local/lib/python3.7/site-packages/pandas/io/parsers/c_parser_wrapper.py\u001b[0m in \u001b[0;36m__init__\u001b[0;34m(self, src, **kwds)\u001b[0m\n\u001b[1;32m     49\u001b[0m \u001b[0;34m\u001b[0m\u001b[0m\n\u001b[1;32m     50\u001b[0m         \u001b[0;31m# open handles\u001b[0m\u001b[0;34m\u001b[0m\u001b[0;34m\u001b[0m\u001b[0;34m\u001b[0m\u001b[0m\n\u001b[0;32m---> 51\u001b[0;31m         \u001b[0mself\u001b[0m\u001b[0;34m.\u001b[0m\u001b[0m_open_handles\u001b[0m\u001b[0;34m(\u001b[0m\u001b[0msrc\u001b[0m\u001b[0;34m,\u001b[0m \u001b[0mkwds\u001b[0m\u001b[0;34m)\u001b[0m\u001b[0;34m\u001b[0m\u001b[0;34m\u001b[0m\u001b[0m\n\u001b[0m\u001b[1;32m     52\u001b[0m         \u001b[0;32massert\u001b[0m \u001b[0mself\u001b[0m\u001b[0;34m.\u001b[0m\u001b[0mhandles\u001b[0m \u001b[0;32mis\u001b[0m \u001b[0;32mnot\u001b[0m \u001b[0;32mNone\u001b[0m\u001b[0;34m\u001b[0m\u001b[0;34m\u001b[0m\u001b[0m\n\u001b[1;32m     53\u001b[0m \u001b[0;34m\u001b[0m\u001b[0m\n",
      "\u001b[0;32m/usr/local/lib/python3.7/site-packages/pandas/io/parsers/base_parser.py\u001b[0m in \u001b[0;36m_open_handles\u001b[0;34m(self, src, kwds)\u001b[0m\n\u001b[1;32m    227\u001b[0m             \u001b[0mmemory_map\u001b[0m\u001b[0;34m=\u001b[0m\u001b[0mkwds\u001b[0m\u001b[0;34m.\u001b[0m\u001b[0mget\u001b[0m\u001b[0;34m(\u001b[0m\u001b[0;34m\"memory_map\"\u001b[0m\u001b[0;34m,\u001b[0m \u001b[0;32mFalse\u001b[0m\u001b[0;34m)\u001b[0m\u001b[0;34m,\u001b[0m\u001b[0;34m\u001b[0m\u001b[0;34m\u001b[0m\u001b[0m\n\u001b[1;32m    228\u001b[0m             \u001b[0mstorage_options\u001b[0m\u001b[0;34m=\u001b[0m\u001b[0mkwds\u001b[0m\u001b[0;34m.\u001b[0m\u001b[0mget\u001b[0m\u001b[0;34m(\u001b[0m\u001b[0;34m\"storage_options\"\u001b[0m\u001b[0;34m,\u001b[0m \u001b[0;32mNone\u001b[0m\u001b[0;34m)\u001b[0m\u001b[0;34m,\u001b[0m\u001b[0;34m\u001b[0m\u001b[0;34m\u001b[0m\u001b[0m\n\u001b[0;32m--> 229\u001b[0;31m             \u001b[0merrors\u001b[0m\u001b[0;34m=\u001b[0m\u001b[0mkwds\u001b[0m\u001b[0;34m.\u001b[0m\u001b[0mget\u001b[0m\u001b[0;34m(\u001b[0m\u001b[0;34m\"encoding_errors\"\u001b[0m\u001b[0;34m,\u001b[0m \u001b[0;34m\"strict\"\u001b[0m\u001b[0;34m)\u001b[0m\u001b[0;34m,\u001b[0m\u001b[0;34m\u001b[0m\u001b[0;34m\u001b[0m\u001b[0m\n\u001b[0m\u001b[1;32m    230\u001b[0m         )\n\u001b[1;32m    231\u001b[0m \u001b[0;34m\u001b[0m\u001b[0m\n",
      "\u001b[0;32m/usr/local/lib/python3.7/site-packages/pandas/io/common.py\u001b[0m in \u001b[0;36mget_handle\u001b[0;34m(path_or_buf, mode, encoding, compression, memory_map, is_text, errors, storage_options)\u001b[0m\n\u001b[1;32m    705\u001b[0m                 \u001b[0mencoding\u001b[0m\u001b[0;34m=\u001b[0m\u001b[0mioargs\u001b[0m\u001b[0;34m.\u001b[0m\u001b[0mencoding\u001b[0m\u001b[0;34m,\u001b[0m\u001b[0;34m\u001b[0m\u001b[0;34m\u001b[0m\u001b[0m\n\u001b[1;32m    706\u001b[0m                 \u001b[0merrors\u001b[0m\u001b[0;34m=\u001b[0m\u001b[0merrors\u001b[0m\u001b[0;34m,\u001b[0m\u001b[0;34m\u001b[0m\u001b[0;34m\u001b[0m\u001b[0m\n\u001b[0;32m--> 707\u001b[0;31m                 \u001b[0mnewline\u001b[0m\u001b[0;34m=\u001b[0m\u001b[0;34m\"\"\u001b[0m\u001b[0;34m,\u001b[0m\u001b[0;34m\u001b[0m\u001b[0;34m\u001b[0m\u001b[0m\n\u001b[0m\u001b[1;32m    708\u001b[0m             )\n\u001b[1;32m    709\u001b[0m         \u001b[0;32melse\u001b[0m\u001b[0;34m:\u001b[0m\u001b[0;34m\u001b[0m\u001b[0;34m\u001b[0m\u001b[0m\n",
      "\u001b[0;31mFileNotFoundError\u001b[0m: [Errno 2] No such file or directory: 'Lending_Club_Rejected_2014_2018.csv'"
     ]
    }
   ],
   "source": [
    "rejected = pd.read_csv(\"Lending_Club_Rejected_2014_2018.csv\")"
   ]
  },
  {
   "cell_type": "code",
   "execution_count": null,
   "metadata": {},
   "outputs": [
    {
     "name": "stderr",
     "output_type": "stream",
     "text": [
      "/var/folders/bh/b7l9xs7133g2k2ztkrf8jywr0000gn/T/ipykernel_44622/2282768605.py:1: DtypeWarning: Columns (19,59,118,129,130,131,134,135,136,139,145,146,147) have mixed types. Specify dtype option on import or set low_memory=False.\n",
      "  accepted = pd.read_csv(\"Lending_Club_Accepted_2014_2018.csv\")\n"
     ]
    }
   ],
   "source": [
    "accepted = pd.read_csv(\"Lending_Club_Accepted_2014_2018.csv\")"
   ]
  },
  {
   "cell_type": "code",
   "execution_count": null,
   "metadata": {},
   "outputs": [
    {
     "name": "stdout",
     "output_type": "stream",
     "text": [
      "Index(['Amount_Requested', 'Application_Date', 'Loan_Title', 'Risk_Score',\n",
      "       'Debt_to_Income_Ratio', 'Zip_Code', 'State', 'Employment_Length',\n",
      "       'Policy_Code'],\n",
      "      dtype='object')\n",
      "Index(['id', 'member_id', 'loan_amnt', 'funded_amnt', 'funded_amnt_inv',\n",
      "       'term', 'int_rate', 'installment', 'grade', 'sub_grade',\n",
      "       ...\n",
      "       'hardship_payoff_balance_amount', 'hardship_last_payment_amount',\n",
      "       'disbursement_method', 'debt_settlement_flag',\n",
      "       'debt_settlement_flag_date', 'settlement_status', 'settlement_date',\n",
      "       'settlement_amount', 'settlement_percentage', 'settlement_term'],\n",
      "      dtype='object', length=151)\n"
     ]
    }
   ],
   "source": [
    "print(rejected.keys())\n",
    "print(accepted.keys())"
   ]
  },
  {
   "cell_type": "code",
   "execution_count": null,
   "metadata": {},
   "outputs": [
    {
     "name": "stdout",
     "output_type": "stream",
     "text": [
      "['10+ years' '3 years' '4 years' '6 years' '1 year' '7 years' '8 years'\n",
      " '5 years' '2 years' '9 years' '< 1 year' nan]\n"
     ]
    }
   ],
   "source": [
    "print(accepted['emp_length'].unique())"
   ]
  },
  {
   "cell_type": "code",
   "execution_count": null,
   "metadata": {},
   "outputs": [],
   "source": [
    "def trim_accept(accept):\n",
    "    cols = ['loan_amnt', 'title','dti','zip_code','addr_state','emp_length','policy_code', 'issue_d']\n",
    "    trimmed_acp = accept[cols]\n",
    "    return trimmed_acp \n",
    "\n",
    "def trim_rej(rej):\n",
    "    return rej[[\"Amount_Requested\", \"Loan_Title\", \"Debt_to_Income_Ratio\", \"Zip_Code\", \"State\", \"Employment_Length\", \"Policy_Code\", 'Application_Date']]"
   ]
  },
  {
   "cell_type": "code",
   "execution_count": null,
   "metadata": {},
   "outputs": [],
   "source": [
    "rejected_dropna = pd.DataFrame(trim_rej(rejected).dropna())\n",
    "# print(rejected_dropna.shape)"
   ]
  },
  {
   "cell_type": "code",
   "execution_count": null,
   "metadata": {},
   "outputs": [],
   "source": [
    "accepted_dropna = pd.DataFrame(trim_accept(accepted).dropna())\n",
    "# print(accepted_dropna.shape)"
   ]
  },
  {
   "cell_type": "code",
   "execution_count": null,
   "metadata": {},
   "outputs": [
    {
     "name": "stderr",
     "output_type": "stream",
     "text": [
      "/var/folders/bh/b7l9xs7133g2k2ztkrf8jywr0000gn/T/ipykernel_44622/4077895458.py:21: SettingWithCopyWarning: \n",
      "A value is trying to be set on a copy of a slice from a DataFrame.\n",
      "Try using .loc[row_indexer,col_indexer] = value instead\n",
      "\n",
      "See the caveats in the documentation: https://pandas.pydata.org/pandas-docs/stable/user_guide/indexing.html#returning-a-view-versus-a-copy\n",
      "  accepted_dropna['month'] = accepted_dropna['issue_d'].str[0:3].map(monthNameToInt)\n"
     ]
    },
    {
     "name": "stdout",
     "output_type": "stream",
     "text": [
      "         loan_amnt                    title    dti zip_code addr_state emp_length  policy_code  month\n",
      "651660     10000.0       Debt consolidation  13.05    447xx         OH    3 years          1.0      6\n",
      "651661     12000.0       Debt consolidation  22.86    774xx         TX    7 years          1.0      6\n",
      "651662     20000.0  Credit card refinancing  17.05    960xx         CA    8 years          1.0      6\n",
      "651663      4900.0         Home improvement   6.07    770xx         TX   < 1 year          1.0      6\n",
      "651664     21000.0       Debt consolidation   9.87    913xx         CA   < 1 year          1.0      6\n",
      "...            ...                      ...    ...      ...        ...        ...          ...    ...\n",
      "2029945    16000.0         Medical expenses  12.25    284xx         NC  10+ years          1.0     10\n",
      "2029946    24000.0  Credit card refinancing  10.98    967xx         HI    4 years          1.0     10\n",
      "2029947    24000.0         Home improvement  19.61    356xx         AL    7 years          1.0     10\n",
      "2029948    24000.0       Debt consolidation  34.94    840xx         UT  10+ years          1.0     10\n",
      "2029950    24000.0       Debt consolidation  18.30    334xx         FL    6 years          1.0     10\n",
      "\n",
      "[386223 rows x 8 columns]\n"
     ]
    }
   ],
   "source": [
    "\n",
    "def unifyDate(accepted_dropna, rejected_dropna):\n",
    "    '''Only keep the samples from 2016/4 to 2016/12 and unify the data format to be one integer representing the month'''\n",
    "    monthNameToInt = {\n",
    "        \"Jan\": 1,\n",
    "        \"Feb\": 2,\n",
    "        \"Mar\": 3,\n",
    "        \"Apr\": 4,\n",
    "        \"May\": 5,\n",
    "        \"Jun\": 6,\n",
    "        \"Jul\": 7,\n",
    "        \"Aug\": 8,\n",
    "        \"Sep\": 9,\n",
    "        \"Oct\": 10,\n",
    "        \"Nov\": 11,\n",
    "        \"Dec\": 12\n",
    "    }\n",
    "    \n",
    "    ## Proccess accepted\n",
    "    # filter to keep the 2016 year\n",
    "    accepted_dropna = accepted_dropna[accepted_dropna['issue_d'].str.endswith('2016')]\n",
    "    accepted_dropna['month'] = accepted_dropna['issue_d'].str[0:3].map(monthNameToInt)\n",
    "    del accepted_dropna['issue_d']\n",
    "\n",
    "    ## Process rejected\n",
    "    rejected_dropna['month'] = rejected_dropna['Application_Date'].str[5:7].astype(int)\n",
    "    del rejected_dropna['Application_Date']\n",
    "    \n",
    "    ## Final\n",
    "    return (accepted_dropna, rejected_dropna)\n",
    "\n",
    "accepted_dropna, rejected_dropna = unifyDate(accepted_dropna, rejected_dropna)\n",
    "print(accepted_dropna)"
   ]
  },
  {
   "cell_type": "code",
   "execution_count": null,
   "metadata": {},
   "outputs": [],
   "source": [
    "accepted_dropna.columns = ['Amount_Requested', 'Loan_Title', 'Debt_to_Income_Ratio', 'Zip_Code', 'State', 'Employment_Length', 'Policy_Code', 'month']"
   ]
  },
  {
   "cell_type": "code",
   "execution_count": null,
   "metadata": {},
   "outputs": [],
   "source": [
    "accepted_dropna[\"Status\"] = 1\n",
    "rejected_dropna[\"Status\"] = 0\n",
    "rejected_dropna[\"Debt_to_Income_Ratio\"] = rejected_dropna[\"Debt_to_Income_Ratio\"].str.rstrip(\"%\").astype(\"float\") \n",
    "frames = [accepted_dropna,rejected_dropna]\n",
    "merged = pd.concat(frames)"
   ]
  },
  {
   "cell_type": "code",
   "execution_count": null,
   "metadata": {},
   "outputs": [],
   "source": [
    "merged.Employment_Length = merged.Employment_Length.str[:2]\n",
    "merged.loc[ merged[\"Employment_Length\"] == \"< \", \"Employment_Length\"] = 0.1\n",
    "merged[\"Employment_Length\"] = merged[\"Employment_Length\"].astype(\"float\") "
   ]
  },
  {
   "cell_type": "code",
   "execution_count": null,
   "metadata": {},
   "outputs": [],
   "source": [
    "merged_copy = merged.copy()"
   ]
  },
  {
   "cell_type": "code",
   "execution_count": null,
   "metadata": {},
   "outputs": [
    {
     "name": "stdout",
     "output_type": "stream",
     "text": [
      "Index(['Amount_Requested', 'Loan_Title', 'Debt_to_Income_Ratio', 'Zip_Code',\n",
      "       'State', 'Employment_Length', 'Policy_Code', 'month', 'Status'],\n",
      "      dtype='object')\n"
     ]
    }
   ],
   "source": [
    "print(merged.keys())"
   ]
  },
  {
   "cell_type": "code",
   "execution_count": null,
   "metadata": {},
   "outputs": [],
   "source": [
    "income_by_state = pd.read_csv(\"state_average_income_2016.csv\")\n",
    "states = income_by_state[income_by_state.columns[0]].to_numpy()\n",
    "states = np.array(states)\n",
    "income_by_state = income_by_state[0:51]\n",
    "income_by_state = income_by_state[['state', 'income']]\n",
    "\n",
    "incomes = income_by_state[income_by_state.columns[1]].to_numpy()\n",
    "income_by_state_dict = dict(zip(states, incomes))\n",
    "def modify_state(state):\n",
    "    income_by_state_dict[state]"
   ]
  },
  {
   "cell_type": "code",
   "execution_count": null,
   "metadata": {},
   "outputs": [],
   "source": [
    "merged_copy2 = merged_copy.copy()"
   ]
  },
  {
   "cell_type": "code",
   "execution_count": null,
   "metadata": {},
   "outputs": [],
   "source": [
    "merged_copy2[\"State\"] = merged_copy2[\"State\"].map(income_by_state_dict).str.replace(',', \"\").astype(int)"
   ]
  },
  {
   "cell_type": "code",
   "execution_count": null,
   "metadata": {},
   "outputs": [
    {
     "name": "stdout",
     "output_type": "stream",
     "text": [
      "          Amount_Requested               Loan_Title  Debt_to_Income_Ratio Zip_Code  State  Employment_Length  Policy_Code  month  Status\n",
      "651660             10000.0       Debt consolidation                 13.05    447xx  58232                3.0          1.0      6       1\n",
      "651661             12000.0       Debt consolidation                 22.86    774xx  62720                7.0          1.0      6       1\n",
      "651662             20000.0  Credit card refinancing                 17.05    960xx  71879                8.0          1.0      6       1\n",
      "651663              4900.0         Home improvement                  6.07    770xx  62720                0.1          1.0      6       1\n",
      "651664             21000.0       Debt consolidation                  9.87    913xx  71879                0.1          1.0      6       1\n",
      "...                    ...                      ...                   ...      ...    ...                ...          ...    ...     ...\n",
      "26132303           10000.0       Debt consolidation                 41.26    441xx  58232                0.1          0.0     12       0\n",
      "26132304           10000.0                   moving                  1.48    207xx  79562                5.0          0.0     12       0\n",
      "26132305            1200.0                    Other                 10.26    914xx  71879                0.1          0.0     12       0\n",
      "26132306           25000.0       debt_consolidation                 17.71    880xx  52262                0.1          0.0     12       0\n",
      "26132307           15000.0                 Business                 10.58    113xx  66270                0.1          0.0     12       0\n",
      "\n",
      "[25584076 rows x 9 columns]\n"
     ]
    }
   ],
   "source": [
    "merged = merged_copy2\n",
    "print(merged)"
   ]
  },
  {
   "cell_type": "code",
   "execution_count": null,
   "metadata": {},
   "outputs": [],
   "source": [
    "merged = merged.sample(frac=1).reset_index(drop=True)\n",
    "# display the dataFrame without line breaks\n",
    "pd.set_option('display.expand_frame_repr', False)"
   ]
  },
  {
   "cell_type": "code",
   "execution_count": null,
   "metadata": {},
   "outputs": [
    {
     "name": "stdout",
     "output_type": "stream",
     "text": [
      "Index(['1', '2', '3', '4', '5', '6', '7', '8', '9', '10', '11', '12'], dtype='object')\n"
     ]
    },
    {
     "data": {
      "image/png": "[encoded data removed]",
      "text/plain": [
       "<Figure size 432x288 with 1 Axes>"
      ]
     },
     "metadata": {
      "needs_background": "light"
     },
     "output_type": "display_data"
    }
   ],
   "source": [
    "from matplotlib import pyplot as plt\n",
    "libor = pd.read_csv('libor.csv')\n",
    "print(libor.keys())\n",
    "month = list(libor.columns)\n",
    "index = list(libor.iloc[0])\n",
    "\n",
    "plt.plot(month,index, label=\"Libor By Month, 2016\")\n",
    "leg = plt.legend(loc='upper center')\n",
    "plt.show()"
   ]
  },
  {
   "cell_type": "code",
   "execution_count": null,
   "metadata": {},
   "outputs": [
    {
     "name": "stdout",
     "output_type": "stream",
     "text": [
      "[[-2.669342446323074e-06, -0.016465050148749424, 0.46600384334157435, 0.09029093402639263, -7.90603669028709e-05], [-3.5895478618395334e-07, -0.01601208543943413, 0.4738240682215595, 0.09129448888855239, -8.504445431416626e-05], [-2.1935221897207754e-05, -0.05373836212650808, 0.2643959475396851, 5.321672218356968, -7.187352550854232e-05], [-1.823363347585075e-05, -0.032270347970694294, 0.2872416942691222, 4.521738128062798, -7.735212487698688e-05], [-1.7783542906873218e-05, -0.041903405795191626, 0.29473695621823903, 4.58702550645115, -7.504010280118053e-05], [-2.1873221340525263e-05, -0.036870564116249865, 0.3260311462497045, 4.1595304821698305, -7.739337071430906e-05], [-3.105349873481565e-06, -0.021837925167766323, 0.4790805214772353, 0.0886764087406552, -8.063358142682437e-05], [3.6559832471490565e-07, -0.021159430695340632, 0.47810758800829134, 0.08731977090610031, -8.030019223373285e-05], [3.581734649438817e-06, -0.018901715131510836, 0.4738928862994289, 0.09141295304598897, -8.095241540447558e-05]]\n",
      "{4: 1.0, 5: 1.0, 6: 1.0, 7: 1.0, 8: 1.0, 9: 1.0, 10: 1.0, 11: 1.0, 12: 1.0}\n"
     ]
    }
   ],
   "source": [
    "monthly_para = []\n",
    "monthly_accur = {}\n",
    "\n",
    "### Import scikit learn libraries\n",
    "from sklearn.linear_model import LogisticRegression\n",
    "from sklearn.model_selection import train_test_split\n",
    "from sklearn import preprocessing\n",
    "from sklearn import metrics\n",
    "\n",
    "for m in range (4,13):\n",
    "    #select the corresponding month in libor and merge\n",
    "    month_merge = merged.loc[merged['month'] == m]\n",
    "    numerical_features = [\"Amount_Requested\", \"Debt_to_Income_Ratio\", \"Employment_Length\", \"Policy_Code\", \"State\"]\n",
    "    X = month_merge[numerical_features]\n",
    "    y = month_merge[\"Status\"]\n",
    "    X_train, X_test, y_train, y_test = train_test_split(X, y, test_size=0.3, random_state=0)\n",
    "\n",
    "    # Build Classifier\n",
    "    logreg = LogisticRegression(max_iter=1000000)\n",
    "    LogRegClassifier = logreg.fit(X_train, y_train)\n",
    "\n",
    "    # Visualize weights\n",
    "    coef = LogRegClassifier.coef_[0]\n",
    "    monthly_para.append(list(coef))\n",
    "\n",
    "    # Test Accuracy\n",
    "    y_hat = LogRegClassifier.predict(X_test)\n",
    "    accuracy = metrics.accuracy_score(y_hat, y_hat)\n",
    "    monthly_accur[m] = accuracy\n",
    "\n",
    "print(monthly_para)\n",
    "print(monthly_accur)\n",
    "\n",
    "# find the parameter that has the highest correlation with\n",
    "import numpy as np"
   ]
  },
  {
   "cell_type": "code",
   "execution_count": null,
   "metadata": {},
   "outputs": [
    {
     "name": "stdout",
     "output_type": "stream",
     "text": [
      "------\n",
      "0.314855950557641\n",
      "0.19107061252524427\n",
      "0.31328120214582894\n",
      "-0.2726458010016944\n",
      "-0.18370957322852507\n"
     ]
    }
   ],
   "source": [
    "monthly_params = np.array(monthly_para)\n",
    "#print(monthly_params)\n",
    "print('------')\n",
    "\n",
    "index = list(libor.iloc[0])\n",
    "index = index[3:]\n",
    "index = np.array(index)\n",
    "\n",
    "all_params_by_month = []\n",
    "for col in range(5):\n",
    "    # the weights of one feature from all months\n",
    "    param_by_month = np.array(monthly_params[:, col])\n",
    "    R = np.corrcoef(param_by_month, index)\n",
    "    print(R[0, 1])"
   ]
  },
  {
   "cell_type": "markdown",
   "metadata": {},
   "source": [
    "## sy.ipynb"
   ]
  },
  {
   "cell_type": "code",
   "execution_count": null,
   "metadata": {},
   "outputs": [],
   "source": [
    "libor = pd.read_csv(\"LIBOR14to18.csv\")"
   ]
  },
  {
   "cell_type": "code",
   "execution_count": null,
   "metadata": {},
   "outputs": [],
   "source": [
    "def modify_date(input_date):\n",
    "    input_year = input_date[-4:]\n",
    "    input_month = input_date[0:3]\n",
    "    month_dict = {\"Jan\": \"01\", \"Feb\": \"02\", \"Mar\": \"03\", \"Apr\": \"04\", \"May\": \"05\", \n",
    "    \"Jun\": \"06\", \"Jul\": \"07\", \"Aug\": \"08\", \"Sep\": \"09\", \"Oct\": \"10\", \"Nov\": \"11\", \"Dec\": \"12\"}\n",
    "    month = month_dict[input_month]\n",
    "    return input_year + month\n",
    "\n",
    "trimmed = accepted[[\"int_rate\", \"issue_d\"]]\n",
    "trimmed.issue_d = trimmed[\"issue_d\"].apply(modify_date)\n",
    "trimmed.sort_values(by=['issue_d'])\n",
    "int_rate_monthly = trimmed.groupby(by=['issue_d']).mean()\n",
    "print(int_rate_monthly)"
   ]
  },
  {
   "cell_type": "code",
   "execution_count": null,
   "metadata": {},
   "outputs": [],
   "source": [
    "import numpy as np\n",
    "x = libor[libor.columns[1]].to_numpy()\n",
    "print(x)\n",
    "# x = libor[[\"int_rate\"]].to_numpy()\n",
    "y = int_rate_monthly[int_rate_monthly.columns[0]].to_numpy()\n",
    "print(y)\n",
    "corr = np.corrcoef(x[48:60], y[48:60])\n",
    "print(corr)"
   ]
  },
  {
   "cell_type": "markdown",
   "metadata": {},
   "source": [
    "## Using Logistic Regression for Numerical Features"
   ]
  },
  {
   "cell_type": "code",
   "execution_count": null,
   "metadata": {},
   "outputs": [
    {
     "name": "stdout",
     "output_type": "stream",
     "text": [
      "(27069691, 4)\n",
      "(27069691,)\n"
     ]
    }
   ],
   "source": [
    "### Extract all the numerical features(columns)\n",
    "numerical_features = [\"Amount_Requested\", \"Debt_to_Income_Ratio\", \"Employment_Length\", \"Policy_Code\"]\n",
    "\n",
    "X = merged[numerical_features]\n",
    "y = merged[\"Status\"]\n",
    "\n",
    "print(X.shape)\n",
    "print(y.shape)"
   ]
  },
  {
   "cell_type": "code",
   "execution_count": null,
   "metadata": {},
   "outputs": [],
   "source": [
    "### Import scikit learn libraries\n",
    "from sklearn.linear_model import LogisticRegression\n",
    "from sklearn.model_selection import train_test_split\n",
    "from sklearn import preprocessing\n",
    "from sklearn import metrics"
   ]
  },
  {
   "cell_type": "code",
   "execution_count": null,
   "metadata": {},
   "outputs": [
    {
     "name": "stdout",
     "output_type": "stream",
     "text": [
      "0    25197853\n",
      "1     1871838\n",
      "Name: Status, dtype: int64\n",
      "y=1 samples takes the porportion of 0.06914884990744814\n"
     ]
    }
   ],
   "source": [
    "### Data exploration\n",
    "print(merged[\"Status\"].value_counts())\n",
    "print(\"y=1 samples takes the porportion of\", 1871838 / (25197853 + 1871838))"
   ]
  },
  {
   "cell_type": "code",
   "execution_count": null,
   "metadata": {},
   "outputs": [],
   "source": [
    "def LinearRegressionTrainAndTest(X, y):\n",
    "    '''Prints the weights and the accuracy of the model'''\n",
    "    # Split train and test sets\n",
    "    X_train, X_test, y_train, y_test = train_test_split(X, y, test_size=0.3, random_state=0)\n",
    "\n",
    "    # Build Classifier\n",
    "    logreg = LogisticRegression(max_iter=1000000)\n",
    "    LogRegClassifier = logreg.fit(X_train, y_train)\n",
    "\n",
    "    # Visualize weights\n",
    "    coef = LogRegClassifier.coef_[0]\n",
    "    print(coef)\n",
    "\n",
    "    # Test Accuracy\n",
    "    y_hat = LogRegClassifier.predict(X_test)\n",
    "    accuracy = metrics.accuracy_score(y_hat, y_hat)\n",
    "    print(accuracy)"
   ]
  },
  {
   "cell_type": "markdown",
   "metadata": {},
   "source": [
    "#### Result\n",
    "Data | State | Weights | Accuracy\n",
    "| --- | --- | --- | --- |\n",
    "First 1000 samples | converged | [-3.86427605e-06 -7.79187122e-03  2.72544483e-01  4.93654007e+00] |\n",
    "First 100000 samples | converged | [-1.82404211e-05 -1.88134360e-02  2.03956568e-01  7.15292616e+00] | \n",
    "First 1000000 samples | converged | [-2.71159981e-05 -1.78985938e-02  2.21481719e-01  7.37541925e+00] | \n",
    "Full data set | converged | [-2.21539709e-05 -1.73101075e-02  2.18396270e-01  7.38836630e+00] | 0.9969306387906377\n",
    " "
   ]
  }
 ],
 "metadata": {
  "kernelspec": {
   "display_name": "Python 3.7.7 64-bit",
   "language": "python",
   "name": "python3"
  },
  "language_info": {
   "codemirror_mode": {
    "name": "ipython",
    "version": 3
   },
   "file_extension": ".py",
   "mimetype": "text/x-python",
   "name": "python",
   "nbconvert_exporter": "python",
   "pygments_lexer": "ipython3",
   "version": "3.7.7"
  },
  "orig_nbformat": 4,
  "vscode": {
   "interpreter": {
    "hash": "df955ce39d0f31d56d4bb2fe0a613e5326ba60723fd33d8303a3aede8f65715c"
   }
  }
 },
 "nbformat": 4,
 "nbformat_minor": 2
}

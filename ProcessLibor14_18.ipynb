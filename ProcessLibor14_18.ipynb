{
 "cells": [
  {
   "cell_type": "code",
   "execution_count": 23,
   "metadata": {},
   "outputs": [
    {
     "name": "stderr",
     "output_type": "stream",
     "text": [
      "/Users/sunying/opt/anaconda3/lib/python3.9/site-packages/IPython/core/interactiveshell.py:3444: DtypeWarning: Columns (19,59,118,129,130,131,134,135,136,139,145,146,147) have mixed types.Specify dtype option on import or set low_memory=False.\n",
      "  exec(code_obj, self.user_global_ns, self.user_ns)\n"
     ]
    }
   ],
   "source": [
    "import pandas as pd\n",
    "# rejected = pd.read_csv(\"Lending_Club_Rejected_2014_2018.csv\")\n",
    "accepted = pd.read_csv(\"Lending_Club_Accepted_2014_2018.csv\")"
   ]
  },
  {
   "cell_type": "code",
   "execution_count": 25,
   "metadata": {},
   "outputs": [],
   "source": [
    "libor = pd.read_csv(\"LIBOR14to18.csv\")"
   ]
  },
  {
   "cell_type": "code",
   "execution_count": 21,
   "metadata": {},
   "outputs": [
    {
     "name": "stderr",
     "output_type": "stream",
     "text": [
      "/Users/sunying/opt/anaconda3/lib/python3.9/site-packages/pandas/core/generic.py:5516: SettingWithCopyWarning: \n",
      "A value is trying to be set on a copy of a slice from a DataFrame.\n",
      "Try using .loc[row_indexer,col_indexer] = value instead\n",
      "\n",
      "See the caveats in the documentation: https://pandas.pydata.org/pandas-docs/stable/user_guide/indexing.html#returning-a-view-versus-a-copy\n",
      "  self[name] = value\n"
     ]
    },
    {
     "name": "stdout",
     "output_type": "stream",
     "text": [
      "          int_rate\n",
      "issue_d           \n",
      "201401   14.209685\n",
      "201402   14.314247\n",
      "201403   14.453305\n",
      "201404   14.395606\n",
      "201405   13.959840\n",
      "201406   13.850323\n",
      "201407   13.919243\n",
      "201408   13.892222\n",
      "201409   13.392782\n",
      "201410   13.298481\n",
      "201411   13.093683\n",
      "201412   12.705817\n",
      "201501   13.053058\n",
      "201502   12.726625\n",
      "201503   12.772612\n",
      "201504   12.789420\n",
      "201505   12.749449\n",
      "201506   12.761709\n",
      "201507   12.705187\n",
      "201508   12.590873\n",
      "201509   12.657968\n",
      "201510   12.281337\n",
      "201511   12.169902\n",
      "201512   12.279697\n",
      "201601   12.290103\n",
      "201602   12.547103\n",
      "201603   12.526671\n",
      "201604   12.429358\n",
      "201605   12.503870\n",
      "201606   12.509503\n",
      "201607   13.685528\n",
      "201608   13.646460\n",
      "201609   13.866895\n",
      "201610   13.571570\n",
      "201611   13.549768\n",
      "201612   13.829173\n",
      "201701   13.564876\n",
      "201702   13.389176\n",
      "201703   13.183129\n",
      "201704   13.299691\n",
      "201705   13.292932\n",
      "201706   13.263503\n",
      "201707   13.430335\n",
      "201708   13.235223\n",
      "201709   13.760751\n",
      "201710   13.211537\n",
      "201711   12.776701\n",
      "201712   12.651806\n",
      "201801   12.385711\n",
      "201802   12.460285\n",
      "201803   12.430405\n",
      "201804   12.531481\n",
      "201805   12.585520\n",
      "201806   12.561079\n",
      "201807   13.080953\n",
      "201808   12.988657\n",
      "201809   12.779897\n",
      "201810   12.749912\n",
      "201811   13.081592\n",
      "201812   12.980739\n"
     ]
    }
   ],
   "source": [
    "def modify_date(input_date):\n",
    "    input_year = input_date[-4:]\n",
    "    input_month = input_date[0:3]\n",
    "    month_dict = {\"Jan\": \"01\", \"Feb\": \"02\", \"Mar\": \"03\", \"Apr\": \"04\", \"May\": \"05\", \n",
    "    \"Jun\": \"06\", \"Jul\": \"07\", \"Aug\": \"08\", \"Sep\": \"09\", \"Oct\": \"10\", \"Nov\": \"11\", \"Dec\": \"12\"}\n",
    "    month = month_dict[input_month]\n",
    "    return input_year + month\n",
    "\n",
    "trimmed = accepted[[\"int_rate\", \"issue_d\"]]\n",
    "trimmed.issue_d = trimmed[\"issue_d\"].apply(modify_date)\n",
    "trimmed.sort_values(by=['issue_d'])\n",
    "int_rate_monthly = trimmed.groupby(by=['issue_d']).mean()\n",
    "print(int_rate_monthly)"
   ]
  },
  {
   "cell_type": "code",
   "execution_count": 27,
   "metadata": {},
   "outputs": [
    {
     "name": "stdout",
     "output_type": "stream",
     "text": [
      "(60, 2)\n"
     ]
    }
   ],
   "source": [
    "print(libor.shape)"
   ]
  },
  {
   "cell_type": "code",
   "execution_count": 47,
   "metadata": {},
   "outputs": [
    {
     "name": "stdout",
     "output_type": "stream",
     "text": [
      "[0.2386 0.2352 0.2341 0.2273 0.2261 0.2309 0.2342 0.2348 0.234  0.2314\n",
      " 0.2329 0.2457 0.2544 0.2584 0.2683 0.2758 0.2798 0.2827 0.2907 0.3212\n",
      " 0.3311 0.3214 0.371  0.5393 0.6196 0.6227 0.6317 0.6328 0.6457 0.6516\n",
      " 0.6963 0.8112 0.8497 0.8787 0.9085 0.9773 1.0244 1.0446 1.1347 1.159\n",
      " 1.186  1.2624 1.3075 1.3143 1.3233 1.3608 1.4342 1.6098 1.7322 1.8747\n",
      " 2.1796 2.3476 2.3363 2.3303 2.3391 2.3233 2.3494 2.4606 2.6492 2.7902]\n",
      "[14.20968518 14.31424717 14.45330467 14.39560589 13.95983978 13.85032307\n",
      " 13.9192435  13.89222228 13.39278239 13.29848078 13.09368285 12.70581741\n",
      " 13.05305808 12.72662474 12.7726122  12.78941993 12.74944881 12.76170862\n",
      " 12.70518711 12.59087332 12.6579676  12.28133742 12.16990248 12.27969691\n",
      " 12.29010289 12.54710314 12.52667134 12.42935826 12.50387001 12.50950332\n",
      " 13.68552801 13.64646003 13.86689525 13.57156994 13.54976844 13.82917282\n",
      " 13.56487577 13.38917624 13.18312929 13.29969107 13.29293225 13.26350303\n",
      " 13.4303349  13.23522342 13.76075064 13.21153705 12.77670123 12.65180558\n",
      " 12.38571134 12.46028461 12.4304052  12.53148085 12.58551985 12.56107914\n",
      " 13.08095268 12.98865731 12.77989699 12.74991232 13.08159221 12.98073878]\n",
      "[[1.         0.72462296]\n",
      " [0.72462296 1.        ]]\n"
     ]
    }
   ],
   "source": [
    "import numpy as np\n",
    "x = libor[libor.columns[1]].to_numpy()\n",
    "print(x)\n",
    "# x = libor[[\"int_rate\"]].to_numpy()\n",
    "y = int_rate_monthly[int_rate_monthly.columns[0]].to_numpy()\n",
    "print(y)\n",
    "corr = np.corrcoef(x[48:60], y[48:60])\n",
    "print(corr)"
   ]
  },
  {
   "cell_type": "code",
   "execution_count": null,
   "metadata": {},
   "outputs": [],
   "source": []
  }
 ],
 "metadata": {
  "kernelspec": {
   "display_name": "Python 3.8.5 64-bit",
   "language": "python",
   "name": "python3"
  },
  "language_info": {
   "codemirror_mode": {
    "name": "ipython",
    "version": 3
   },
   "file_extension": ".py",
   "mimetype": "text/x-python",
   "name": "python",
   "nbconvert_exporter": "python",
   "pygments_lexer": "ipython3",
   "version": "3.8.5"
  },
  "orig_nbformat": 4,
  "vscode": {
   "interpreter": {
    "hash": "0adcc2737ebf6a4a119f135174df96668767fca1ef1112612db5ecadf2b6d608"
   }
  }
 },
 "nbformat": 4,
 "nbformat_minor": 2
}
